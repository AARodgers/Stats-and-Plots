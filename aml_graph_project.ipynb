{
 "cells": [
  {
   "cell_type": "markdown",
   "id": "4336561c",
   "metadata": {},
   "source": [
    "Amanda Rodgers\n",
    "AML Graph Project\n",
    "July 17, 2024"
   ]
  },
  {
   "cell_type": "code",
   "execution_count": 2,
   "id": "32b60acb",
   "metadata": {},
   "outputs": [
    {
     "name": "stdout",
     "output_type": "stream",
     "text": [
      "Collecting pyvis\n",
      "  Downloading pyvis-0.3.2-py3-none-any.whl.metadata (1.7 kB)\n",
      "Requirement already satisfied: ipython>=5.3.0 in /opt/anaconda3/lib/python3.11/site-packages (from pyvis) (8.20.0)\n",
      "Requirement already satisfied: jinja2>=2.9.6 in /opt/anaconda3/lib/python3.11/site-packages (from pyvis) (3.1.3)\n",
      "Collecting jsonpickle>=1.4.1 (from pyvis)\n",
      "  Downloading jsonpickle-3.2.2-py3-none-any.whl.metadata (7.2 kB)\n",
      "Requirement already satisfied: networkx>=1.11 in /opt/anaconda3/lib/python3.11/site-packages (from pyvis) (3.1)\n",
      "Requirement already satisfied: decorator in /opt/anaconda3/lib/python3.11/site-packages (from ipython>=5.3.0->pyvis) (5.1.1)\n",
      "Requirement already satisfied: jedi>=0.16 in /opt/anaconda3/lib/python3.11/site-packages (from ipython>=5.3.0->pyvis) (0.18.1)\n",
      "Requirement already satisfied: matplotlib-inline in /opt/anaconda3/lib/python3.11/site-packages (from ipython>=5.3.0->pyvis) (0.1.6)\n",
      "Requirement already satisfied: prompt-toolkit<3.1.0,>=3.0.41 in /opt/anaconda3/lib/python3.11/site-packages (from ipython>=5.3.0->pyvis) (3.0.43)\n",
      "Requirement already satisfied: pygments>=2.4.0 in /opt/anaconda3/lib/python3.11/site-packages (from ipython>=5.3.0->pyvis) (2.15.1)\n",
      "Requirement already satisfied: stack-data in /opt/anaconda3/lib/python3.11/site-packages (from ipython>=5.3.0->pyvis) (0.2.0)\n",
      "Requirement already satisfied: traitlets>=5 in /opt/anaconda3/lib/python3.11/site-packages (from ipython>=5.3.0->pyvis) (5.7.1)\n",
      "Requirement already satisfied: pexpect>4.3 in /opt/anaconda3/lib/python3.11/site-packages (from ipython>=5.3.0->pyvis) (4.8.0)\n",
      "Requirement already satisfied: MarkupSafe>=2.0 in /opt/anaconda3/lib/python3.11/site-packages (from jinja2>=2.9.6->pyvis) (2.1.3)\n",
      "Requirement already satisfied: parso<0.9.0,>=0.8.0 in /opt/anaconda3/lib/python3.11/site-packages (from jedi>=0.16->ipython>=5.3.0->pyvis) (0.8.3)\n",
      "Requirement already satisfied: ptyprocess>=0.5 in /opt/anaconda3/lib/python3.11/site-packages (from pexpect>4.3->ipython>=5.3.0->pyvis) (0.7.0)\n",
      "Requirement already satisfied: wcwidth in /opt/anaconda3/lib/python3.11/site-packages (from prompt-toolkit<3.1.0,>=3.0.41->ipython>=5.3.0->pyvis) (0.2.5)\n",
      "Requirement already satisfied: executing in /opt/anaconda3/lib/python3.11/site-packages (from stack-data->ipython>=5.3.0->pyvis) (0.8.3)\n",
      "Requirement already satisfied: asttokens in /opt/anaconda3/lib/python3.11/site-packages (from stack-data->ipython>=5.3.0->pyvis) (2.0.5)\n",
      "Requirement already satisfied: pure-eval in /opt/anaconda3/lib/python3.11/site-packages (from stack-data->ipython>=5.3.0->pyvis) (0.2.2)\n",
      "Requirement already satisfied: six in /opt/anaconda3/lib/python3.11/site-packages (from asttokens->stack-data->ipython>=5.3.0->pyvis) (1.16.0)\n",
      "Downloading pyvis-0.3.2-py3-none-any.whl (756 kB)\n",
      "\u001b[2K   \u001b[90m━━━━━━━━━━━━━━━━━━━━━━━━━━━━━━━━━━━━━━━━\u001b[0m \u001b[32m756.0/756.0 kB\u001b[0m \u001b[31m5.7 MB/s\u001b[0m eta \u001b[36m0:00:00\u001b[0ma \u001b[36m0:00:01\u001b[0mm\n",
      "\u001b[?25hDownloading jsonpickle-3.2.2-py3-none-any.whl (41 kB)\n",
      "\u001b[2K   \u001b[90m━━━━━━━━━━━━━━━━━━━━━━━━━━━━━━━━━━━━━━━━\u001b[0m \u001b[32m41.8/41.8 kB\u001b[0m \u001b[31m3.6 MB/s\u001b[0m eta \u001b[36m0:00:00\u001b[0m\n",
      "\u001b[?25hInstalling collected packages: jsonpickle, pyvis\n",
      "Successfully installed jsonpickle-3.2.2 pyvis-0.3.2\n",
      "Note: you may need to restart the kernel to use updated packages.\n"
     ]
    }
   ],
   "source": [
    "pip install pyvis"
   ]
  },
  {
   "cell_type": "code",
   "execution_count": 3,
   "id": "18232623",
   "metadata": {},
   "outputs": [],
   "source": [
    "import pandas as pd\n",
    "import networkx as nx\n",
    "from pyvis import network as net\n",
    "import matplotlib.pyplot as plt\n",
    "%matplotlib inline\n",
    "pd.options.display.float_format = '{:,.0f}'.format"
   ]
  },
  {
   "cell_type": "code",
   "execution_count": 4,
   "id": "8e70ed5e",
   "metadata": {},
   "outputs": [
    {
     "name": "stdout",
     "output_type": "stream",
     "text": [
      "  SENDER_ACCOUNT_ID RECEIVER_ACCOUNT_ID  TX_AMOUNT\n",
      "0         ACC770487           ACC738720        381\n",
      "1         ACC216739           ACC765822        951\n",
      "2         ACC126225           ACC279451        735\n",
      "3         ACC877572           ACC660086        603\n",
      "4         ACC388389           ACC864544        164\n"
     ]
    }
   ],
   "source": [
    "# Create fake df for transactions\n",
    "\n",
    "import pandas as pd\n",
    "import numpy as np\n",
    "import random\n",
    "\n",
    "# Seed for reproducibility\n",
    "np.random.seed(42)\n",
    "random.seed(42)\n",
    "\n",
    "# Generate 100 rows of data\n",
    "n_rows = 100\n",
    "\n",
    "# Generate random account numbers as strings for SENDER_ACCOUNT_ID and RECEIVER_ACCOUNT_ID\n",
    "sender_account_ids = [f\"ACC{random.randint(100000, 999999)}\" for _ in range(n_rows)]\n",
    "receiver_account_ids = [f\"ACC{random.randint(100000, 999999)}\" for _ in range(n_rows)]\n",
    "\n",
    "# Generate random float numbers for TX_AMOUNT\n",
    "tx_amounts = np.round(np.random.uniform(10.0, 1000.0, n_rows), 2)\n",
    "\n",
    "# Create the DataFrame\n",
    "txn_small = pd.DataFrame({\n",
    "    'SENDER_ACCOUNT_ID': sender_account_ids,\n",
    "    'RECEIVER_ACCOUNT_ID': receiver_account_ids,\n",
    "    'TX_AMOUNT': tx_amounts\n",
    "})\n",
    "\n",
    "# Display the first few rows of the DataFrame\n",
    "print(txn_small.head())\n"
   ]
  },
  {
   "cell_type": "markdown",
   "id": "f5c48ce0",
   "metadata": {},
   "source": [
    "<h2>Sum transaction amounts for each node pair</h2>"
   ]
  },
  {
   "cell_type": "code",
   "execution_count": 5,
   "id": "0adf3b04",
   "metadata": {
    "scrolled": true
   },
   "outputs": [
    {
     "data": {
      "text/html": [
       "<div>\n",
       "<style scoped>\n",
       "    .dataframe tbody tr th:only-of-type {\n",
       "        vertical-align: middle;\n",
       "    }\n",
       "\n",
       "    .dataframe tbody tr th {\n",
       "        vertical-align: top;\n",
       "    }\n",
       "\n",
       "    .dataframe thead th {\n",
       "        text-align: right;\n",
       "    }\n",
       "</style>\n",
       "<table border=\"1\" class=\"dataframe\">\n",
       "  <thead>\n",
       "    <tr style=\"text-align: right;\">\n",
       "      <th></th>\n",
       "      <th>source</th>\n",
       "      <th>target</th>\n",
       "      <th>agg_txn_count</th>\n",
       "      <th>agg_txn_amt</th>\n",
       "    </tr>\n",
       "  </thead>\n",
       "  <tbody>\n",
       "    <tr>\n",
       "      <th>0</th>\n",
       "      <td>ACC106814</td>\n",
       "      <td>ACC774079</td>\n",
       "      <td>1</td>\n",
       "      <td>312</td>\n",
       "    </tr>\n",
       "    <tr>\n",
       "      <th>1</th>\n",
       "      <td>ACC126225</td>\n",
       "      <td>ACC279451</td>\n",
       "      <td>1</td>\n",
       "      <td>735</td>\n",
       "    </tr>\n",
       "    <tr>\n",
       "      <th>2</th>\n",
       "      <td>ACC127824</td>\n",
       "      <td>ACC944151</td>\n",
       "      <td>1</td>\n",
       "      <td>373</td>\n",
       "    </tr>\n",
       "    <tr>\n",
       "      <th>3</th>\n",
       "      <td>ACC131244</td>\n",
       "      <td>ACC905635</td>\n",
       "      <td>1</td>\n",
       "      <td>530</td>\n",
       "    </tr>\n",
       "    <tr>\n",
       "      <th>4</th>\n",
       "      <td>ACC133326</td>\n",
       "      <td>ACC983794</td>\n",
       "      <td>1</td>\n",
       "      <td>311</td>\n",
       "    </tr>\n",
       "    <tr>\n",
       "      <th>...</th>\n",
       "      <td>...</td>\n",
       "      <td>...</td>\n",
       "      <td>...</td>\n",
       "      <td>...</td>\n",
       "    </tr>\n",
       "    <tr>\n",
       "      <th>95</th>\n",
       "      <td>ACC948749</td>\n",
       "      <td>ACC514850</td>\n",
       "      <td>1</td>\n",
       "      <td>810</td>\n",
       "    </tr>\n",
       "    <tr>\n",
       "      <th>96</th>\n",
       "      <td>ACC969693</td>\n",
       "      <td>ACC166613</td>\n",
       "      <td>1</td>\n",
       "      <td>804</td>\n",
       "    </tr>\n",
       "    <tr>\n",
       "      <th>97</th>\n",
       "      <td>ACC974628</td>\n",
       "      <td>ACC555884</td>\n",
       "      <td>1</td>\n",
       "      <td>888</td>\n",
       "    </tr>\n",
       "    <tr>\n",
       "      <th>98</th>\n",
       "      <td>ACC988662</td>\n",
       "      <td>ACC245051</td>\n",
       "      <td>1</td>\n",
       "      <td>896</td>\n",
       "    </tr>\n",
       "    <tr>\n",
       "      <th>99</th>\n",
       "      <td>ACC996865</td>\n",
       "      <td>ACC887352</td>\n",
       "      <td>1</td>\n",
       "      <td>627</td>\n",
       "    </tr>\n",
       "  </tbody>\n",
       "</table>\n",
       "<p>100 rows × 4 columns</p>\n",
       "</div>"
      ],
      "text/plain": [
       "       source     target  agg_txn_count  agg_txn_amt\n",
       "0   ACC106814  ACC774079              1          312\n",
       "1   ACC126225  ACC279451              1          735\n",
       "2   ACC127824  ACC944151              1          373\n",
       "3   ACC131244  ACC905635              1          530\n",
       "4   ACC133326  ACC983794              1          311\n",
       "..        ...        ...            ...          ...\n",
       "95  ACC948749  ACC514850              1          810\n",
       "96  ACC969693  ACC166613              1          804\n",
       "97  ACC974628  ACC555884              1          888\n",
       "98  ACC988662  ACC245051              1          896\n",
       "99  ACC996865  ACC887352              1          627\n",
       "\n",
       "[100 rows x 4 columns]"
      ]
     },
     "execution_count": 5,
     "metadata": {},
     "output_type": "execute_result"
    }
   ],
   "source": [
    "# Form nodes and edges by grouping by account numbers with a count of transactions and sum of amounts\n",
    "# Source account money came from and target is the account it went to\n",
    "edge_small = txn_small.groupby(['SENDER_ACCOUNT_ID', 'RECEIVER_ACCOUNT_ID'],as_index=False).agg({'TX_AMOUNT':['count','sum']})\n",
    "edge_small.columns = ['source','target','agg_txn_count','agg_txn_amt']\n",
    "edge_small"
   ]
  }
 ],
 "metadata": {
  "kernelspec": {
   "display_name": "Python 3 (ipykernel)",
   "language": "python",
   "name": "python3"
  },
  "language_info": {
   "codemirror_mode": {
    "name": "ipython",
    "version": 3
   },
   "file_extension": ".py",
   "mimetype": "text/x-python",
   "name": "python",
   "nbconvert_exporter": "python",
   "pygments_lexer": "ipython3",
   "version": "3.11.7"
  }
 },
 "nbformat": 4,
 "nbformat_minor": 5
}
