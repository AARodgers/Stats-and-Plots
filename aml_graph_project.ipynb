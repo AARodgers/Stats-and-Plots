{
 "cells": [
  {
   "cell_type": "markdown",
   "id": "4336561c",
   "metadata": {},
   "source": [
    "Amanda Rodgers\n",
    "AML Graph Project\n",
    "July 17, 2024"
   ]
  },
  {
   "cell_type": "code",
   "execution_count": null,
   "id": "32b60acb",
   "metadata": {
    "scrolled": true
   },
   "outputs": [],
   "source": [
    "pip install pyvis"
   ]
  },
  {
   "cell_type": "code",
   "execution_count": null,
   "id": "18232623",
   "metadata": {},
   "outputs": [],
   "source": [
    "import pandas as pd\n",
    "import networkx as nx\n",
    "from pyvis import network as net\n",
    "import matplotlib.pyplot as plt\n",
    "%matplotlib inline\n",
    "pd.options.display.float_format = '{:,.0f}'.format"
   ]
  },
  {
   "cell_type": "code",
   "execution_count": null,
   "id": "8e70ed5e",
   "metadata": {},
   "outputs": [],
   "source": [
    "# Create fake df for transactions\n",
    "\n",
    "import pandas as pd\n",
    "import numpy as np\n",
    "import random\n",
    "\n",
    "# Seed for reproducibility\n",
    "np.random.seed(42)\n",
    "random.seed(42)\n",
    "\n",
    "# Generate 100 rows of data\n",
    "n_rows = 100\n",
    "\n",
    "# Generate random account numbers as strings for SENDER_ACCOUNT_ID and RECEIVER_ACCOUNT_ID\n",
    "sender_account_ids = [f\"ACC{random.randint(100000, 999999)}\" for _ in range(n_rows)]\n",
    "receiver_account_ids = [f\"ACC{random.randint(100000, 999999)}\" for _ in range(n_rows)]\n",
    "\n",
    "# Generate random float numbers for TX_AMOUNT\n",
    "tx_amounts = np.round(np.random.uniform(10.0, 1000.0, n_rows), 2)\n",
    "\n",
    "# Create the DataFrame\n",
    "txn_small = pd.DataFrame({\n",
    "    'SENDER_ACCOUNT_ID': sender_account_ids,\n",
    "    'RECEIVER_ACCOUNT_ID': receiver_account_ids,\n",
    "    'TX_AMOUNT': tx_amounts\n",
    "})\n",
    "\n",
    "# Display the first few rows of the DataFrame\n",
    "print(txn_small.head())\n"
   ]
  },
  {
   "cell_type": "markdown",
   "id": "f5c48ce0",
   "metadata": {},
   "source": [
    "<h2>Sum transaction amounts for each node pair</h2>"
   ]
  },
  {
   "cell_type": "code",
   "execution_count": null,
   "id": "0adf3b04",
   "metadata": {
    "scrolled": true
   },
   "outputs": [],
   "source": [
    "# Form nodes and edges by grouping by account numbers with a count of transactions and sum of amounts\n",
    "# Source account money came from and target is the account it went to\n",
    "edge_small = txn_small.groupby(['SENDER_ACCOUNT_ID', 'RECEIVER_ACCOUNT_ID'],as_index=False).agg({'TX_AMOUNT':['count','sum']})\n",
    "edge_small.columns = ['source','target','agg_txn_count','agg_txn_amt']\n",
    "edge_small"
   ]
  },
  {
   "cell_type": "code",
   "execution_count": null,
   "id": "79852889",
   "metadata": {},
   "outputs": [],
   "source": [
    "# Sort sum of transactions to see if all there is only 1 transaction per each source and target\n",
    "# This data set has all unique rows and only one transaction per each source and target, no anomalies\n",
    "edge_small_sorted_desc = edge_small.sort_values(by='agg_txn_count', ascending=False)\n",
    "print(edge_small_sorted_desc)"
   ]
  },
  {
   "cell_type": "markdown",
   "id": "86978faa",
   "metadata": {},
   "source": [
    "<h2>Construct Network with NetworkX</h2>"
   ]
  },
  {
   "cell_type": "code",
   "execution_count": null,
   "id": "d7cdcb1e",
   "metadata": {},
   "outputs": [],
   "source": [
    "# Create graph network with networkX\n",
    "G = nx.from_pandas_edgelist(edge_small, source='source', target='target')"
   ]
  },
  {
   "cell_type": "code",
   "execution_count": null,
   "id": "50f4f466",
   "metadata": {},
   "outputs": [],
   "source": [
    "# Access node and edge information from G, variable that stores graph\n",
    "# Show first five nodes of graph, pattern is source, target, source, target, source, target\n",
    "list(G.nodes)[0:5]"
   ]
  },
  {
   "cell_type": "code",
   "execution_count": null,
   "id": "ec80eb48",
   "metadata": {
    "scrolled": true
   },
   "outputs": [],
   "source": [
    "# Show the first 5 edge of G\n",
    "# Shows ('target', 'source')\n",
    "list(G.edges)[0:5]"
   ]
  },
  {
   "cell_type": "code",
   "execution_count": null,
   "id": "30d7c5e9",
   "metadata": {
    "scrolled": true
   },
   "outputs": [],
   "source": [
    "# Show the first 5 edge of G with all attributes with data=True, there are no attributes in this case\n",
    "list(G.edges(data=True))[0:5]"
   ]
  },
  {
   "cell_type": "code",
   "execution_count": null,
   "id": "107089cb",
   "metadata": {},
   "outputs": [],
   "source": [
    "# Show the first 5 nodes of G with all attributes with data=True, there are no attributes in this case\n",
    "list(G.nodes(data=True))[0:5]"
   ]
  },
  {
   "cell_type": "markdown",
   "id": "c1adabd2",
   "metadata": {},
   "source": [
    "<h2>Various network layout</h2>"
   ]
  },
  {
   "cell_type": "code",
   "execution_count": null,
   "id": "8165552b",
   "metadata": {},
   "outputs": [],
   "source": [
    "# Networkx Default Layout\n",
    "plt.figure(figsize=(8,6))\n",
    "nx.draw(G)\n",
    "plt.show()"
   ]
  }
 ],
 "metadata": {
  "kernelspec": {
   "display_name": "Python 3 (ipykernel)",
   "language": "python",
   "name": "python3"
  },
  "language_info": {
   "codemirror_mode": {
    "name": "ipython",
    "version": 3
   },
   "file_extension": ".py",
   "mimetype": "text/x-python",
   "name": "python",
   "nbconvert_exporter": "python",
   "pygments_lexer": "ipython3",
   "version": "3.11.7"
  }
 },
 "nbformat": 4,
 "nbformat_minor": 5
}
