{
 "cells": [
  {
   "cell_type": "markdown",
   "id": "e5c9004a",
   "metadata": {},
   "source": [
    "Amanda Rodgers\n",
    "July 18, 2024\n",
    "Anti-money laundering Project"
   ]
  },
  {
   "cell_type": "code",
   "execution_count": null,
   "id": "bda4cfe3",
   "metadata": {},
   "outputs": [],
   "source": [
    "# Dataset: https://www.kaggle.com/datasets/anshankul/ibm-amlsim-example-dataset?select=transactions.csv\n",
    "# Tutorial: https://medium.com/@jasonclwu/network-analysis-for-anti-money-laundering-with-python-ad981792a947\n",
    "# Github: https://github.com/jasonclwu/202209_AML_Network_Analysis/blob/main/AML_Network_Analysis.ipynb"
   ]
  },
  {
   "cell_type": "code",
   "execution_count": null,
   "id": "6f24be2a",
   "metadata": {},
   "outputs": [],
   "source": [
    "# Import libraries\n",
    "import pandas as pd\n",
    "import networkx as nx\n",
    "from pyvis.network import Network as net\n",
    "# from pyvis import Network as net\n",
    "import matplotlib.pyplot as plt\n",
    "%matplotlib inline\n",
    "pd.options.display.float_format = '{:,.0f}'.format"
   ]
  },
  {
   "cell_type": "code",
   "execution_count": null,
   "id": "9cc52f4a",
   "metadata": {},
   "outputs": [],
   "source": [
    "# Create df with dataset\n",
    "txn_small = pd.read_csv('transactions.csv', usecols=['SENDER_ACCOUNT_ID','RECEIVER_ACCOUNT_ID','TX_AMOUNT'], dtype='object')\n",
    "txn_small['TX_AMOUNT'] = txn_small['TX_AMOUNT'].astype(float)\n",
    "txn_small"
   ]
  },
  {
   "cell_type": "markdown",
   "id": "b2b215fb",
   "metadata": {},
   "source": [
    "<h2>Sum transaction amounts for each node pair</h2>"
   ]
  },
  {
   "cell_type": "code",
   "execution_count": null,
   "id": "beb30e66",
   "metadata": {},
   "outputs": [],
   "source": [
    "# Form nodes and edges by grouping by account numbers with a count of transactions and sum of amounts\n",
    "# Money came from source account and target is the account it went to\n",
    "# Create new columns agg_txn_count(number of transactions) and agg_txn_amt (sum of all transactions)\n",
    "edge_small = txn_small.groupby(['SENDER_ACCOUNT_ID', 'RECEIVER_ACCOUNT_ID'],as_index=False).agg({'TX_AMOUNT':['count','sum']})\n",
    "edge_small.columns = ['source','target','agg_txn_count','agg_txn_amt']\n",
    "edge_small"
   ]
  },
  {
   "cell_type": "code",
   "execution_count": 33,
   "id": "36a0d29f",
   "metadata": {},
   "outputs": [
    {
     "data": {
      "text/html": [
       "<div>\n",
       "<style scoped>\n",
       "    .dataframe tbody tr th:only-of-type {\n",
       "        vertical-align: middle;\n",
       "    }\n",
       "\n",
       "    .dataframe tbody tr th {\n",
       "        vertical-align: top;\n",
       "    }\n",
       "\n",
       "    .dataframe thead th {\n",
       "        text-align: right;\n",
       "    }\n",
       "</style>\n",
       "<table border=\"1\" class=\"dataframe\">\n",
       "  <thead>\n",
       "    <tr style=\"text-align: right;\">\n",
       "      <th></th>\n",
       "      <th>source</th>\n",
       "      <th>target</th>\n",
       "      <th>agg_txn_count</th>\n",
       "      <th>agg_txn_amt</th>\n",
       "    </tr>\n",
       "  </thead>\n",
       "  <tbody>\n",
       "    <tr>\n",
       "      <th>0</th>\n",
       "      <td>1</td>\n",
       "      <td>884</td>\n",
       "      <td>24</td>\n",
       "      <td>4,219</td>\n",
       "    </tr>\n",
       "    <tr>\n",
       "      <th>1</th>\n",
       "      <td>10</td>\n",
       "      <td>8317</td>\n",
       "      <td>21</td>\n",
       "      <td>2,003</td>\n",
       "    </tr>\n",
       "    <tr>\n",
       "      <th>2</th>\n",
       "      <td>10</td>\n",
       "      <td>8520</td>\n",
       "      <td>21</td>\n",
       "      <td>2,003</td>\n",
       "    </tr>\n",
       "    <tr>\n",
       "      <th>3</th>\n",
       "      <td>100</td>\n",
       "      <td>3472</td>\n",
       "      <td>18</td>\n",
       "      <td>978</td>\n",
       "    </tr>\n",
       "    <tr>\n",
       "      <th>4</th>\n",
       "      <td>100</td>\n",
       "      <td>9954</td>\n",
       "      <td>18</td>\n",
       "      <td>978</td>\n",
       "    </tr>\n",
       "    <tr>\n",
       "      <th>...</th>\n",
       "      <td>...</td>\n",
       "      <td>...</td>\n",
       "      <td>...</td>\n",
       "      <td>...</td>\n",
       "    </tr>\n",
       "    <tr>\n",
       "      <th>4995</th>\n",
       "      <td>2121</td>\n",
       "      <td>8634</td>\n",
       "      <td>22</td>\n",
       "      <td>467</td>\n",
       "    </tr>\n",
       "    <tr>\n",
       "      <th>4996</th>\n",
       "      <td>2121</td>\n",
       "      <td>9388</td>\n",
       "      <td>22</td>\n",
       "      <td>467</td>\n",
       "    </tr>\n",
       "    <tr>\n",
       "      <th>4997</th>\n",
       "      <td>2121</td>\n",
       "      <td>9448</td>\n",
       "      <td>22</td>\n",
       "      <td>467</td>\n",
       "    </tr>\n",
       "    <tr>\n",
       "      <th>4998</th>\n",
       "      <td>2121</td>\n",
       "      <td>9968</td>\n",
       "      <td>22</td>\n",
       "      <td>467</td>\n",
       "    </tr>\n",
       "    <tr>\n",
       "      <th>4999</th>\n",
       "      <td>2122</td>\n",
       "      <td>269</td>\n",
       "      <td>26</td>\n",
       "      <td>665</td>\n",
       "    </tr>\n",
       "  </tbody>\n",
       "</table>\n",
       "<p>5000 rows × 4 columns</p>\n",
       "</div>"
      ],
      "text/plain": [
       "     source target  agg_txn_count  agg_txn_amt\n",
       "0         1    884             24        4,219\n",
       "1        10   8317             21        2,003\n",
       "2        10   8520             21        2,003\n",
       "3       100   3472             18          978\n",
       "4       100   9954             18          978\n",
       "...     ...    ...            ...          ...\n",
       "4995   2121   8634             22          467\n",
       "4996   2121   9388             22          467\n",
       "4997   2121   9448             22          467\n",
       "4998   2121   9968             22          467\n",
       "4999   2122    269             26          665\n",
       "\n",
       "[5000 rows x 4 columns]"
      ]
     },
     "execution_count": 33,
     "metadata": {},
     "output_type": "execute_result"
    }
   ],
   "source": [
    "# Make df smaller for faster processing\n",
    "first_5000_rows_df = edge_small.head(5000)\n",
    "first_5000_rows_df"
   ]
  },
  {
   "cell_type": "markdown",
   "id": "9116b6d3",
   "metadata": {},
   "source": [
    "<h2>Construct Network with NetworkX</h2>"
   ]
  },
  {
   "cell_type": "code",
   "execution_count": null,
   "id": "f6b17c05",
   "metadata": {},
   "outputs": [],
   "source": [
    "# Create graph network with networkX\n",
    "G = nx.from_pandas_edgelist(first_5000_rows_df, source='source', target='target')"
   ]
  },
  {
   "cell_type": "code",
   "execution_count": null,
   "id": "cd46e90e",
   "metadata": {},
   "outputs": [],
   "source": [
    "# Access node and edge information from G, variable that stores graph\n",
    "# Show first five nodes of graph, pattern is source, target, source, target, source, target\n",
    "list(G.nodes)[0:5]"
   ]
  },
  {
   "cell_type": "code",
   "execution_count": null,
   "id": "5d57fa08",
   "metadata": {
    "scrolled": true
   },
   "outputs": [],
   "source": [
    "# Show the first 5 edge of G\n",
    "# Shows ('target', 'source')\n",
    "list(G.edges)[0:5]"
   ]
  },
  {
   "cell_type": "code",
   "execution_count": null,
   "id": "19ed07ae",
   "metadata": {},
   "outputs": [],
   "source": [
    "# Show the first 5 edge of G with all attributes with data=True, there are no attributes in this case\n",
    "# [('source', 'target' {attributes})]\n",
    "list(G.edges(data=True))[0:5]"
   ]
  },
  {
   "cell_type": "code",
   "execution_count": null,
   "id": "0560b5dd",
   "metadata": {},
   "outputs": [],
   "source": [
    "# Show the first 5 nodes of G with all attributes with data=True, there are no attributes in this case\n",
    "list(G.nodes(data=True))[0:5]"
   ]
  },
  {
   "cell_type": "markdown",
   "id": "07ccfa55",
   "metadata": {},
   "source": [
    "<h2>Various network layouts</h2>"
   ]
  },
  {
   "cell_type": "code",
   "execution_count": null,
   "id": "18cd9a7e",
   "metadata": {
    "scrolled": true
   },
   "outputs": [],
   "source": [
    "# Networkx Default Layout\n",
    "# Create a network graph using networkx\n",
    "plt.figure(figsize=(8,6))\n",
    "nx.draw(G)\n",
    "plt.show()"
   ]
  },
  {
   "cell_type": "code",
   "execution_count": null,
   "id": "d0be0930",
   "metadata": {
    "scrolled": true
   },
   "outputs": [],
   "source": [
    "# Debug: Print the graph information\n",
    "# print(f\"Nodes: {G.nodes()}\")\n",
    "# print(f\"Edges: {G.edges()}\")"
   ]
  },
  {
   "cell_type": "code",
   "execution_count": null,
   "id": "4b752e2c",
   "metadata": {},
   "outputs": [],
   "source": [
    "# Create a Pyvis network and visualize the NetworkX graph\n",
    "# Pyvis Default Layout\n",
    "# nt = net.Network(width='100%', height='100%', directed=True)\n",
    "# nt.from_nx(G)\n",
    "# nt.show('01_pyvis_default.html')"
   ]
  },
  {
   "cell_type": "code",
   "execution_count": null,
   "id": "c57a34f4",
   "metadata": {},
   "outputs": [],
   "source": [
    "# Debug: Check the Pyvis network\n",
    "# print(f\"Pyvis Nodes: {nt.nodes}\")\n",
    "# print(f\"Pyvis Edges: {nt.edges}\")"
   ]
  },
  {
   "cell_type": "markdown",
   "id": "826fac6a",
   "metadata": {},
   "source": [
    "<h3>? can't get plot to render below?</h3>"
   ]
  },
  {
   "cell_type": "code",
   "execution_count": null,
   "id": "bdc5fdbe",
   "metadata": {
    "scrolled": true
   },
   "outputs": [],
   "source": [
    "# Is not working, check to see if file was created and if browser and cloud are compatible\n",
    "# see if versions of pyvis and networkX are compatible\n",
    "# ERROR AttributeError: module 'pyvis.network' has no attribute 'network'(pyvis object net.network is not\n",
    "# being created)\n",
    "\n",
    "nt = net.Network(width='100%', height='100%', directed=True)\n",
    "nt.from_nx(G)\n",
    "nt.show('01_pyvis_default.html')"
   ]
  },
  {
   "cell_type": "code",
   "execution_count": null,
   "id": "9834e830",
   "metadata": {},
   "outputs": [],
   "source": [
    "# Debug\n",
    "# Ensure that the Pyvis network object nt is correctly initialized \n",
    "# and that the from_nx method is successfully converting the NetworkX graph.\n",
    "from pyvis.network import Network\n",
    "\n",
    "nt = Network(width='100%', height='100%', directed=True)\n",
    "nt.from_nx(G)\n",
    "\n",
    "# Check the Pyvis network\n",
    "print(nt.nodes)\n",
    "print(nt.edges)"
   ]
  },
  {
   "cell_type": "code",
   "execution_count": null,
   "id": "530fe1dc",
   "metadata": {},
   "outputs": [],
   "source": [
    "pip install --upgrade networkx"
   ]
  },
  {
   "cell_type": "code",
   "execution_count": null,
   "id": "ee107e51",
   "metadata": {
    "scrolled": true
   },
   "outputs": [],
   "source": [
    "pip install --upgrade pyvis"
   ]
  },
  {
   "cell_type": "code",
   "execution_count": null,
   "id": "5820b664",
   "metadata": {},
   "outputs": [],
   "source": [
    "# Debug\n",
    "# Create a Pyvis network and visualize the NetworkX graph\n",
    "nt = Network(width='100%', height='100%', directed=True)\n",
    "nt.from_nx(G)\n",
    "\n",
    "# Debug: Check the Pyvis network\n",
    "print(f\"Pyvis Nodes: {nt.nodes}\")\n",
    "print(f\"Pyvis Edges: {nt.edges}\")\n",
    "\n",
    "# Show the network\n",
    "nt.show('1_pyvis_default.html')"
   ]
  },
  {
   "cell_type": "markdown",
   "id": "3dfbf05c",
   "metadata": {},
   "source": [
    "<h3>Create function for drawing network graph</h3>"
   ]
  },
  {
   "cell_type": "code",
   "execution_count": null,
   "id": "fbac68ed",
   "metadata": {},
   "outputs": [],
   "source": [
    "def show_graph(graph, filename):\n",
    "    nt = net.Network(width='100%', height='100%', directed=True)\n",
    "    nt.from_nx(graph)\n",
    "    nt.show(filename)"
   ]
  },
  {
   "cell_type": "markdown",
   "id": "3800ace1",
   "metadata": {},
   "source": [
    "<h3>Set Node Attributes</h3>"
   ]
  },
  {
   "cell_type": "markdown",
   "id": "10564caf",
   "metadata": {},
   "source": [
    "<h3>Set the node size according to the degree (number of connections) of node</h3>"
   ]
  },
  {
   "cell_type": "code",
   "execution_count": 23,
   "id": "db2730ec",
   "metadata": {},
   "outputs": [
    {
     "data": {
      "text/plain": [
       "[('1', 1), ('884', 1), ('10', 2), ('8317', 3), ('8520', 2)]"
      ]
     },
     "execution_count": 23,
     "metadata": {},
     "output_type": "execute_result"
    }
   ],
   "source": [
    "# List source, \n",
    "# ?? follow on graph what these mean('source1', has 1 connection), ('targetamt884', 'is connected with source1'), ('source10', 'has 2 connections')\n",
    "list(G.degree)[0:5]"
   ]
  },
  {
   "cell_type": "code",
   "execution_count": 25,
   "id": "d83afba0",
   "metadata": {},
   "outputs": [],
   "source": [
    "# Creates a dictionary of key = node id and value = node degree (how many connections that node has)\n",
    "# Nodes with a bigger degree will appear bigger in the graph\n",
    "degree_dict_G = dict(G.degree)\n",
    "nx.set_node_attributes(G, degree_dict_G, 'value')"
   ]
  },
  {
   "cell_type": "code",
   "execution_count": 26,
   "id": "5efdde4c",
   "metadata": {
    "scrolled": true
   },
   "outputs": [
    {
     "data": {
      "text/plain": [
       "[('1', {'size': 10, 'value': 1}),\n",
       " ('884', {'size': 10, 'value': 1}),\n",
       " ('10', {'size': 10, 'value': 2}),\n",
       " ('8317', {'size': 10, 'value': 3}),\n",
       " ('8520', {'size': 10, 'value': 2})]"
      ]
     },
     "execution_count": 26,
     "metadata": {},
     "output_type": "execute_result"
    }
   ],
   "source": [
    "# List graph dictionary of nodes with attributes size and value being number of connections (same as size but pyvis \n",
    "# recognizes it different)\n",
    "# size = number of connections to that node\n",
    "# Below shows that the new attribute value has been added\n",
    "list(G.nodes(data=True))[0:5]"
   ]
  },
  {
   "cell_type": "markdown",
   "id": "7eabe46c",
   "metadata": {},
   "source": [
    "<h3>Graph won't render, pyvis net.network object never created</h3>"
   ]
  },
  {
   "cell_type": "code",
   "execution_count": 28,
   "id": "c0fb2f74",
   "metadata": {},
   "outputs": [
    {
     "ename": "NameError",
     "evalue": "name 'show_graph' is not defined",
     "output_type": "error",
     "traceback": [
      "\u001b[0;31m---------------------------------------------------------------------------\u001b[0m",
      "\u001b[0;31mNameError\u001b[0m                                 Traceback (most recent call last)",
      "Cell \u001b[0;32mIn[28], line 1\u001b[0m\n\u001b[0;32m----> 1\u001b[0m show_graph(G, \u001b[38;5;124m'\u001b[39m\u001b[38;5;124m02_node_size.html\u001b[39m\u001b[38;5;124m'\u001b[39m)\n",
      "\u001b[0;31mNameError\u001b[0m: name 'show_graph' is not defined"
     ]
    }
   ],
   "source": [
    "show_graph(G, '02_node_size.html')"
   ]
  },
  {
   "cell_type": "markdown",
   "id": "6cdfb405",
   "metadata": {},
   "source": [
    "<h3> ?? graph won't render</h3>"
   ]
  },
  {
   "cell_type": "code",
   "execution_count": 29,
   "id": "2f82de3f",
   "metadata": {
    "scrolled": true
   },
   "outputs": [
    {
     "ename": "AttributeError",
     "evalue": "'Network' object has no attribute 'show_graph'",
     "output_type": "error",
     "traceback": [
      "\u001b[0;31m---------------------------------------------------------------------------\u001b[0m",
      "\u001b[0;31mAttributeError\u001b[0m                            Traceback (most recent call last)",
      "Cell \u001b[0;32mIn[29], line 2\u001b[0m\n\u001b[1;32m      1\u001b[0m \u001b[38;5;66;03m# Show graph to that nodes with higher degrees are larger\u001b[39;00m\n\u001b[0;32m----> 2\u001b[0m nt\u001b[38;5;241m.\u001b[39mshow_graph()\n",
      "\u001b[0;31mAttributeError\u001b[0m: 'Network' object has no attribute 'show_graph'"
     ]
    }
   ],
   "source": [
    "# Show graph to that nodes with higher degrees are larger\n",
    "# Besides using degree as the centrality measurement, \n",
    "# you can also use other measurements under graph theory (link) such as eigenvector, closeness, betweenness etc\n",
    "# For any above, you have to obtain the measurement for each node in a dictionary form, then pass the dictionary \n",
    "# to the node attribute with attribute name of value.\n",
    "nt.show_graph()"
   ]
  },
  {
   "cell_type": "markdown",
   "id": "3007c286",
   "metadata": {},
   "source": [
    "<h3>Display Node Information on Hover</h3>"
   ]
  },
  {
   "cell_type": "markdown",
   "id": "c80d4cb6",
   "metadata": {},
   "source": [
    "<h3> graph will not render???</h3>"
   ]
  },
  {
   "cell_type": "code",
   "execution_count": 30,
   "id": "26031cc8",
   "metadata": {},
   "outputs": [
    {
     "ename": "NameError",
     "evalue": "name 'show_graph' is not defined",
     "output_type": "error",
     "traceback": [
      "\u001b[0;31m---------------------------------------------------------------------------\u001b[0m",
      "\u001b[0;31mNameError\u001b[0m                                 Traceback (most recent call last)",
      "Cell \u001b[0;32mIn[30], line 6\u001b[0m\n\u001b[1;32m      4\u001b[0m     title_dict_G[node] \u001b[38;5;241m=\u001b[39m \u001b[38;5;124mf\u001b[39m\u001b[38;5;124m'\u001b[39m\u001b[38;5;124mid: \u001b[39m\u001b[38;5;132;01m{\u001b[39;00mnode\u001b[38;5;132;01m}\u001b[39;00m\u001b[38;5;124m'\u001b[39m\n\u001b[1;32m      5\u001b[0m nx\u001b[38;5;241m.\u001b[39mset_node_attributes(G, title_dict_G, \u001b[38;5;124m'\u001b[39m\u001b[38;5;124mtitle\u001b[39m\u001b[38;5;124m'\u001b[39m)\n\u001b[0;32m----> 6\u001b[0m show_graph(G, \u001b[38;5;124m'\u001b[39m\u001b[38;5;124m03_node_title_1.html\u001b[39m\u001b[38;5;124m'\u001b[39m)\n",
      "\u001b[0;31mNameError\u001b[0m: name 'show_graph' is not defined"
     ]
    }
   ],
   "source": [
    "# Use title attribute to show info of node when you hover over it\n",
    "# if you want to add more info in addition to account number, pass more information to the title attribute\n",
    "title_dict_G = {}\n",
    "for node in list(G.nodes):\n",
    "    title_dict_G[node] = f'id: {node}'\n",
    "nx.set_node_attributes(G, title_dict_G, 'title')\n",
    "show_graph(G, '03_node_title_1.html')"
   ]
  },
  {
   "cell_type": "markdown",
   "id": "2bd04e82",
   "metadata": {},
   "source": [
    "<h3>Retrieve neighbors for each node</h3>"
   ]
  },
  {
   "cell_type": "code",
   "execution_count": 34,
   "id": "887631c4",
   "metadata": {},
   "outputs": [
    {
     "data": {
      "text/plain": [
       "['3674', '6042', '6735', '7028', '8634']"
      ]
     },
     "execution_count": 34,
     "metadata": {},
     "output_type": "execute_result"
    }
   ],
   "source": [
    "# List neighbors of node 2121\n",
    "list(G.neighbors('2121'))[0:5]"
   ]
  },
  {
   "cell_type": "code",
   "execution_count": 35,
   "id": "54664de3",
   "metadata": {},
   "outputs": [],
   "source": [
    "# Create a dictionary of neighbor list for each node\n",
    "neighbor_dict_G = {}\n",
    "for node in list(G.nodes):\n",
    "    neighbor_dict_G[node] = ','.join(G.neighbors(node))"
   ]
  },
  {
   "cell_type": "markdown",
   "id": "c8696439",
   "metadata": {},
   "source": [
    "<h3> ? graph won't show, error: NameError: name 'show_graph' is not defined</h3>"
   ]
  },
  {
   "cell_type": "code",
   "execution_count": 36,
   "id": "f77dac95",
   "metadata": {},
   "outputs": [
    {
     "ename": "NameError",
     "evalue": "name 'show_graph' is not defined",
     "output_type": "error",
     "traceback": [
      "\u001b[0;31m---------------------------------------------------------------------------\u001b[0m",
      "\u001b[0;31mNameError\u001b[0m                                 Traceback (most recent call last)",
      "Cell \u001b[0;32mIn[36], line 8\u001b[0m\n\u001b[1;32m      5\u001b[0m     title_dict_G[node] \u001b[38;5;241m=\u001b[39m \u001b[38;5;124mf\u001b[39m\u001b[38;5;124m'\u001b[39m\u001b[38;5;124mid: \u001b[39m\u001b[38;5;132;01m{\u001b[39;00mnode\u001b[38;5;132;01m}\u001b[39;00m\u001b[38;5;130;01m\\n\u001b[39;00m\u001b[38;5;124mdegree: \u001b[39m\u001b[38;5;132;01m{\u001b[39;00mdegree_dict_G[node]\u001b[38;5;132;01m}\u001b[39;00m\u001b[38;5;130;01m\\n\u001b[39;00m\u001b[38;5;124mneighbor: \u001b[39m\u001b[38;5;132;01m{\u001b[39;00mneighbor_dict_G[node]\u001b[38;5;132;01m}\u001b[39;00m\u001b[38;5;124m'\u001b[39m\n\u001b[1;32m      6\u001b[0m nx\u001b[38;5;241m.\u001b[39mset_node_attributes(G, title_dict_G, \u001b[38;5;124m'\u001b[39m\u001b[38;5;124mtitle\u001b[39m\u001b[38;5;124m'\u001b[39m)\n\u001b[0;32m----> 8\u001b[0m show_graph(G, \u001b[38;5;124m'\u001b[39m\u001b[38;5;124m04_node_title_2.html\u001b[39m\u001b[38;5;124m'\u001b[39m)\n",
      "\u001b[0;31mNameError\u001b[0m: name 'show_graph' is not defined"
     ]
    }
   ],
   "source": [
    "# Incorporate the dictionary to the attribute title to display: \n",
    "# Display ID, Degree and Neighbors in Graph (Hover on Node)\n",
    "title_dict_G = {}\n",
    "for node in list(G.nodes):\n",
    "    title_dict_G[node] = f'id: {node}\\ndegree: {degree_dict_G[node]}\\nneighbor: {neighbor_dict_G[node]}'\n",
    "nx.set_node_attributes(G, title_dict_G, 'title')\n",
    "\n",
    "show_graph(G, '04_node_title_2.html')"
   ]
  },
  {
   "cell_type": "code",
   "execution_count": null,
   "id": "a8829bbe",
   "metadata": {},
   "outputs": [],
   "source": []
  }
 ],
 "metadata": {
  "kernelspec": {
   "display_name": "Python 3 (ipykernel)",
   "language": "python",
   "name": "python3"
  },
  "language_info": {
   "codemirror_mode": {
    "name": "ipython",
    "version": 3
   },
   "file_extension": ".py",
   "mimetype": "text/x-python",
   "name": "python",
   "nbconvert_exporter": "python",
   "pygments_lexer": "ipython3",
   "version": "3.11.7"
  }
 },
 "nbformat": 4,
 "nbformat_minor": 5
}
