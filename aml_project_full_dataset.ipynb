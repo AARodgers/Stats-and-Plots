{
 "cells": [
  {
   "cell_type": "markdown",
   "id": "e5c9004a",
   "metadata": {},
   "source": [
    "Amanda Rodgers\n",
    "July 18, 2024\n",
    "Anti-money laundering Project"
   ]
  },
  {
   "cell_type": "code",
   "execution_count": null,
   "id": "bda4cfe3",
   "metadata": {},
   "outputs": [],
   "source": [
    "# Dataset: https://www.kaggle.com/datasets/anshankul/ibm-amlsim-example-dataset?select=transactions.csv\n",
    "# Tutorial: https://medium.com/@jasonclwu/network-analysis-for-anti-money-laundering-with-python-ad981792a947\n",
    "# Github: https://github.com/jasonclwu/202209_AML_Network_Analysis/blob/main/AML_Network_Analysis.ipynb"
   ]
  },
  {
   "cell_type": "code",
   "execution_count": null,
   "id": "6f24be2a",
   "metadata": {},
   "outputs": [],
   "source": [
    "# Import libraries\n",
    "import pandas as pd\n",
    "import networkx as nx\n",
    "from pyvis import network as net\n",
    "import matplotlib.pyplot as plt\n",
    "%matplotlib inline\n",
    "pd.options.display.float_format = '{:,.0f}'.format"
   ]
  },
  {
   "cell_type": "code",
   "execution_count": null,
   "id": "9cc52f4a",
   "metadata": {},
   "outputs": [],
   "source": [
    "# Create df with dataset\n",
    "txn_small = pd.read_csv('transactions.csv', usecols=['SENDER_ACCOUNT_ID','RECEIVER_ACCOUNT_ID','TX_AMOUNT'], dtype='object')\n",
    "txn_small['TX_AMOUNT'] = txn_small['TX_AMOUNT'].astype(float)\n",
    "txn_small"
   ]
  },
  {
   "cell_type": "markdown",
   "id": "b2b215fb",
   "metadata": {},
   "source": [
    "<h2>Sum transaction amounts for each node pair</h2>"
   ]
  },
  {
   "cell_type": "code",
   "execution_count": null,
   "id": "beb30e66",
   "metadata": {},
   "outputs": [],
   "source": [
    "# Form nodes and edges by grouping by account numbers with a count of transactions and sum of amounts\n",
    "# Money came from source account and target is the account it went to\n",
    "# Create new columns agg_txn_count(number of transactions) and agg_txn_amt (sum of all transactions)\n",
    "edge_small = txn_small.groupby(['SENDER_ACCOUNT_ID', 'RECEIVER_ACCOUNT_ID'],as_index=False).agg({'TX_AMOUNT':['count','sum']})\n",
    "edge_small.columns = ['source','target','agg_txn_count','agg_txn_amt']\n",
    "edge_small"
   ]
  },
  {
   "cell_type": "code",
   "execution_count": null,
   "id": "36a0d29f",
   "metadata": {},
   "outputs": [],
   "source": [
    "# Make df smaller for faster processing\n",
    "first_5000_rows_df = edge_small.head(5000)\n",
    "first_5000_rows_df"
   ]
  },
  {
   "cell_type": "markdown",
   "id": "9116b6d3",
   "metadata": {},
   "source": [
    "<h2>Construct Network with NetworkX</h2>"
   ]
  },
  {
   "cell_type": "code",
   "execution_count": null,
   "id": "f6b17c05",
   "metadata": {},
   "outputs": [],
   "source": [
    "# Create graph network with networkX\n",
    "G = nx.from_pandas_edgelist(first_5000_rows_df, source='source', target='target')"
   ]
  },
  {
   "cell_type": "code",
   "execution_count": null,
   "id": "cd46e90e",
   "metadata": {},
   "outputs": [],
   "source": [
    "# Access node and edge information from G, variable that stores graph\n",
    "# Show first five nodes of graph, pattern is source, target, source, target, source, target\n",
    "list(G.nodes)[0:5]"
   ]
  },
  {
   "cell_type": "code",
   "execution_count": null,
   "id": "5d57fa08",
   "metadata": {
    "scrolled": true
   },
   "outputs": [],
   "source": [
    "# Show the first 5 edge of G\n",
    "# Shows ('target', 'source')\n",
    "list(G.edges)[0:5]"
   ]
  },
  {
   "cell_type": "code",
   "execution_count": null,
   "id": "19ed07ae",
   "metadata": {},
   "outputs": [],
   "source": [
    "# Show the first 5 edge of G with all attributes with data=True, there are no attributes in this case\n",
    "list(G.edges(data=True))[0:5]"
   ]
  },
  {
   "cell_type": "code",
   "execution_count": null,
   "id": "0560b5dd",
   "metadata": {},
   "outputs": [],
   "source": [
    "# Show the first 5 nodes of G with all attributes with data=True, there are no attributes in this case\n",
    "list(G.nodes(data=True))[0:5]"
   ]
  },
  {
   "cell_type": "markdown",
   "id": "07ccfa55",
   "metadata": {},
   "source": [
    "<h2>Various network layouts</h2>"
   ]
  },
  {
   "cell_type": "code",
   "execution_count": null,
   "id": "18cd9a7e",
   "metadata": {
    "scrolled": true
   },
   "outputs": [],
   "source": [
    "# Networkx Default Layout\n",
    "# Create a network graph using networkx\n",
    "plt.figure(figsize=(8,6))\n",
    "nx.draw(G)\n",
    "plt.show()"
   ]
  },
  {
   "cell_type": "code",
   "execution_count": null,
   "id": "d0be0930",
   "metadata": {
    "scrolled": true
   },
   "outputs": [],
   "source": [
    "# Debug: Print the graph information\n",
    "# print(f\"Nodes: {G.nodes()}\")\n",
    "# print(f\"Edges: {G.edges()}\")"
   ]
  },
  {
   "cell_type": "code",
   "execution_count": null,
   "id": "4b752e2c",
   "metadata": {},
   "outputs": [],
   "source": [
    "# Create a Pyvis network and visualize the NetworkX graph\n",
    "nt = Network(width='100%', height='100%', directed=True)\n",
    "nt.from_nx(G)"
   ]
  },
  {
   "cell_type": "code",
   "execution_count": null,
   "id": "c57a34f4",
   "metadata": {},
   "outputs": [],
   "source": [
    "# Debug: Check the Pyvis network\n",
    "# print(f\"Pyvis Nodes: {nt.nodes}\")\n",
    "# print(f\"Pyvis Edges: {nt.edges}\")"
   ]
  },
  {
   "cell_type": "code",
   "execution_count": null,
   "id": "bdc5fdbe",
   "metadata": {
    "scrolled": true
   },
   "outputs": [],
   "source": [
    "# Is not working, check to see if file was created and if browser and cloud are compatible\n",
    "# see if versions of pyvis and networkX are compatible\n",
    "nt = net.Network(width='100%', height='100%', directed=True)\n",
    "nt.from_nx(G)\n",
    "nt.show('01_pyvis_default.html')"
   ]
  },
  {
   "cell_type": "code",
   "execution_count": null,
   "id": "9834e830",
   "metadata": {},
   "outputs": [],
   "source": [
    "# Debug\n",
    "# Ensure that the Pyvis network object nt is correctly initialized \n",
    "# and that the from_nx method is successfully converting the NetworkX graph.\n",
    "from pyvis.network import Network\n",
    "\n",
    "nt = Network(width='100%', height='100%', directed=True)\n",
    "nt.from_nx(G)\n",
    "\n",
    "# Check the Pyvis network\n",
    "print(nt.nodes)\n",
    "print(nt.edges)"
   ]
  },
  {
   "cell_type": "code",
   "execution_count": null,
   "id": "e6e1c4e9",
   "metadata": {},
   "outputs": [],
   "source": [
    "# Debug\n",
    "# update libaries\n",
    "pip install --upgrade networkx pyvis"
   ]
  },
  {
   "cell_type": "code",
   "execution_count": null,
   "id": "530fe1dc",
   "metadata": {},
   "outputs": [],
   "source": [
    "pip install --upgrade networkx"
   ]
  },
  {
   "cell_type": "code",
   "execution_count": null,
   "id": "ee107e51",
   "metadata": {},
   "outputs": [],
   "source": [
    "pip install --upgrade pyvis"
   ]
  },
  {
   "cell_type": "code",
   "execution_count": null,
   "id": "5820b664",
   "metadata": {},
   "outputs": [],
   "source": [
    "# Debug\n",
    "# Create a Pyvis network and visualize the NetworkX graph\n",
    "nt = Network(width='100%', height='100%', directed=True)\n",
    "nt.from_nx(G)\n",
    "\n",
    "# Debug: Check the Pyvis network\n",
    "print(f\"Pyvis Nodes: {nt.nodes}\")\n",
    "print(f\"Pyvis Edges: {nt.edges}\")\n",
    "\n",
    "# Show the network\n",
    "nt.show('1_pyvis_default.html')"
   ]
  },
  {
   "cell_type": "code",
   "execution_count": 79,
   "id": "45bd7c26",
   "metadata": {},
   "outputs": [
    {
     "name": "stdout",
     "output_type": "stream",
     "text": [
      "1_pyvis_default.html\n"
     ]
    },
    {
     "ename": "AttributeError",
     "evalue": "'NoneType' object has no attribute 'render'",
     "output_type": "error",
     "traceback": [
      "\u001b[0;31m---------------------------------------------------------------------------\u001b[0m",
      "\u001b[0;31mAttributeError\u001b[0m                            Traceback (most recent call last)",
      "Cell \u001b[0;32mIn[79], line 4\u001b[0m\n\u001b[1;32m      2\u001b[0m nt \u001b[38;5;241m=\u001b[39m net\u001b[38;5;241m.\u001b[39mNetwork(width\u001b[38;5;241m=\u001b[39m\u001b[38;5;124m'\u001b[39m\u001b[38;5;124m100\u001b[39m\u001b[38;5;124m%\u001b[39m\u001b[38;5;124m'\u001b[39m, height\u001b[38;5;241m=\u001b[39m\u001b[38;5;124m'\u001b[39m\u001b[38;5;124m100\u001b[39m\u001b[38;5;124m%\u001b[39m\u001b[38;5;124m'\u001b[39m, directed\u001b[38;5;241m=\u001b[39m\u001b[38;5;28;01mTrue\u001b[39;00m)\n\u001b[1;32m      3\u001b[0m nt\u001b[38;5;241m.\u001b[39mfrom_nx(G)\n\u001b[0;32m----> 4\u001b[0m nt\u001b[38;5;241m.\u001b[39mshow(\u001b[38;5;124m'\u001b[39m\u001b[38;5;124m1_pyvis_default.html\u001b[39m\u001b[38;5;124m'\u001b[39m)\n",
      "File \u001b[0;32m/opt/anaconda3/lib/python3.11/site-packages/pyvis/network.py:546\u001b[0m, in \u001b[0;36mNetwork.show\u001b[0;34m(self, name, local, notebook)\u001b[0m\n\u001b[1;32m    544\u001b[0m \u001b[38;5;28mprint\u001b[39m(name)\n\u001b[1;32m    545\u001b[0m \u001b[38;5;28;01mif\u001b[39;00m notebook:\n\u001b[0;32m--> 546\u001b[0m     \u001b[38;5;28mself\u001b[39m\u001b[38;5;241m.\u001b[39mwrite_html(name, open_browser\u001b[38;5;241m=\u001b[39m\u001b[38;5;28;01mFalse\u001b[39;00m,notebook\u001b[38;5;241m=\u001b[39m\u001b[38;5;28;01mTrue\u001b[39;00m)\n\u001b[1;32m    547\u001b[0m \u001b[38;5;28;01melse\u001b[39;00m:\n\u001b[1;32m    548\u001b[0m     \u001b[38;5;28mself\u001b[39m\u001b[38;5;241m.\u001b[39mwrite_html(name, open_browser\u001b[38;5;241m=\u001b[39m\u001b[38;5;28;01mTrue\u001b[39;00m)\n",
      "File \u001b[0;32m/opt/anaconda3/lib/python3.11/site-packages/pyvis/network.py:515\u001b[0m, in \u001b[0;36mNetwork.write_html\u001b[0;34m(self, name, local, notebook, open_browser)\u001b[0m\n\u001b[1;32m    513\u001b[0m getcwd_name \u001b[38;5;241m=\u001b[39m name\n\u001b[1;32m    514\u001b[0m check_html(getcwd_name)\n\u001b[0;32m--> 515\u001b[0m \u001b[38;5;28mself\u001b[39m\u001b[38;5;241m.\u001b[39mhtml \u001b[38;5;241m=\u001b[39m \u001b[38;5;28mself\u001b[39m\u001b[38;5;241m.\u001b[39mgenerate_html(notebook\u001b[38;5;241m=\u001b[39mnotebook)\n\u001b[1;32m    517\u001b[0m \u001b[38;5;28;01mif\u001b[39;00m \u001b[38;5;28mself\u001b[39m\u001b[38;5;241m.\u001b[39mcdn_resources \u001b[38;5;241m==\u001b[39m \u001b[38;5;124m\"\u001b[39m\u001b[38;5;124mlocal\u001b[39m\u001b[38;5;124m\"\u001b[39m:\n\u001b[1;32m    518\u001b[0m     \u001b[38;5;28;01mif\u001b[39;00m \u001b[38;5;129;01mnot\u001b[39;00m os\u001b[38;5;241m.\u001b[39mpath\u001b[38;5;241m.\u001b[39mexists(\u001b[38;5;124m\"\u001b[39m\u001b[38;5;124mlib\u001b[39m\u001b[38;5;124m\"\u001b[39m):\n",
      "File \u001b[0;32m/opt/anaconda3/lib/python3.11/site-packages/pyvis/network.py:479\u001b[0m, in \u001b[0;36mNetwork.generate_html\u001b[0;34m(self, name, local, notebook)\u001b[0m\n\u001b[1;32m    476\u001b[0m \u001b[38;5;28;01melse\u001b[39;00m:\n\u001b[1;32m    477\u001b[0m     physics_enabled \u001b[38;5;241m=\u001b[39m \u001b[38;5;28mself\u001b[39m\u001b[38;5;241m.\u001b[39moptions\u001b[38;5;241m.\u001b[39mphysics\u001b[38;5;241m.\u001b[39menabled\n\u001b[0;32m--> 479\u001b[0m \u001b[38;5;28mself\u001b[39m\u001b[38;5;241m.\u001b[39mhtml \u001b[38;5;241m=\u001b[39m template\u001b[38;5;241m.\u001b[39mrender(height\u001b[38;5;241m=\u001b[39mheight,\n\u001b[1;32m    480\u001b[0m                             width\u001b[38;5;241m=\u001b[39mwidth,\n\u001b[1;32m    481\u001b[0m                             nodes\u001b[38;5;241m=\u001b[39mnodes,\n\u001b[1;32m    482\u001b[0m                             edges\u001b[38;5;241m=\u001b[39medges,\n\u001b[1;32m    483\u001b[0m                             heading\u001b[38;5;241m=\u001b[39mheading,\n\u001b[1;32m    484\u001b[0m                             options\u001b[38;5;241m=\u001b[39moptions,\n\u001b[1;32m    485\u001b[0m                             physics_enabled\u001b[38;5;241m=\u001b[39mphysics_enabled,\n\u001b[1;32m    486\u001b[0m                             use_DOT\u001b[38;5;241m=\u001b[39m\u001b[38;5;28mself\u001b[39m\u001b[38;5;241m.\u001b[39muse_DOT,\n\u001b[1;32m    487\u001b[0m                             dot_lang\u001b[38;5;241m=\u001b[39m\u001b[38;5;28mself\u001b[39m\u001b[38;5;241m.\u001b[39mdot_lang,\n\u001b[1;32m    488\u001b[0m                             widget\u001b[38;5;241m=\u001b[39m\u001b[38;5;28mself\u001b[39m\u001b[38;5;241m.\u001b[39mwidget,\n\u001b[1;32m    489\u001b[0m                             bgcolor\u001b[38;5;241m=\u001b[39m\u001b[38;5;28mself\u001b[39m\u001b[38;5;241m.\u001b[39mbgcolor,\n\u001b[1;32m    490\u001b[0m                             conf\u001b[38;5;241m=\u001b[39m\u001b[38;5;28mself\u001b[39m\u001b[38;5;241m.\u001b[39mconf,\n\u001b[1;32m    491\u001b[0m                             tooltip_link\u001b[38;5;241m=\u001b[39muse_link_template,\n\u001b[1;32m    492\u001b[0m                             neighborhood_highlight\u001b[38;5;241m=\u001b[39m\u001b[38;5;28mself\u001b[39m\u001b[38;5;241m.\u001b[39mneighborhood_highlight,\n\u001b[1;32m    493\u001b[0m                             select_menu\u001b[38;5;241m=\u001b[39m\u001b[38;5;28mself\u001b[39m\u001b[38;5;241m.\u001b[39mselect_menu,\n\u001b[1;32m    494\u001b[0m                             filter_menu\u001b[38;5;241m=\u001b[39m\u001b[38;5;28mself\u001b[39m\u001b[38;5;241m.\u001b[39mfilter_menu,\n\u001b[1;32m    495\u001b[0m                             notebook\u001b[38;5;241m=\u001b[39mnotebook,\n\u001b[1;32m    496\u001b[0m                             cdn_resources\u001b[38;5;241m=\u001b[39m\u001b[38;5;28mself\u001b[39m\u001b[38;5;241m.\u001b[39mcdn_resources\n\u001b[1;32m    497\u001b[0m                             )\n\u001b[1;32m    498\u001b[0m \u001b[38;5;28;01mreturn\u001b[39;00m \u001b[38;5;28mself\u001b[39m\u001b[38;5;241m.\u001b[39mhtml\n",
      "\u001b[0;31mAttributeError\u001b[0m: 'NoneType' object has no attribute 'render'"
     ]
    }
   ],
   "source": [
    "# Pyvis Default Layout\n",
    "nt = net.Network(width='100%', height='100%', directed=True)\n",
    "nt.from_nx(G)\n",
    "nt.show('1_pyvis_default.html')"
   ]
  }
 ],
 "metadata": {
  "kernelspec": {
   "display_name": "Python 3 (ipykernel)",
   "language": "python",
   "name": "python3"
  },
  "language_info": {
   "codemirror_mode": {
    "name": "ipython",
    "version": 3
   },
   "file_extension": ".py",
   "mimetype": "text/x-python",
   "name": "python",
   "nbconvert_exporter": "python",
   "pygments_lexer": "ipython3",
   "version": "3.11.7"
  }
 },
 "nbformat": 4,
 "nbformat_minor": 5
}
