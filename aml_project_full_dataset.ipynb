{
 "cells": [
  {
   "cell_type": "markdown",
   "id": "e5c9004a",
   "metadata": {},
   "source": [
    "Amanda Rodgers\n",
    "July 18, 2024\n",
    "Anti-money laundering Project"
   ]
  },
  {
   "cell_type": "code",
   "execution_count": null,
   "id": "bda4cfe3",
   "metadata": {},
   "outputs": [],
   "source": [
    "# Dataset: https://www.kaggle.com/datasets/anshankul/ibm-amlsim-example-dataset?select=transactions.csv\n",
    "# Tutorial: https://medium.com/@jasonclwu/network-analysis-for-anti-money-laundering-with-python-ad981792a947\n",
    "# Github: https://github.com/jasonclwu/202209_AML_Network_Analysis/blob/main/AML_Network_Analysis.ipynb"
   ]
  },
  {
   "cell_type": "code",
   "execution_count": null,
   "id": "6f24be2a",
   "metadata": {},
   "outputs": [],
   "source": [
    "# Import libraries\n",
    "import pandas as pd\n",
    "import networkx as nx\n",
    "from pyvis import network as net\n",
    "import matplotlib.pyplot as plt\n",
    "%matplotlib inline\n",
    "pd.options.display.float_format = '{:,.0f}'.format"
   ]
  },
  {
   "cell_type": "code",
   "execution_count": null,
   "id": "9cc52f4a",
   "metadata": {},
   "outputs": [],
   "source": [
    "# Create df with dataset\n",
    "txn_small = pd.read_csv('transactions.csv', usecols=['SENDER_ACCOUNT_ID','RECEIVER_ACCOUNT_ID','TX_AMOUNT'], dtype='object')\n",
    "txn_small['TX_AMOUNT'] = txn_small['TX_AMOUNT'].astype(float)\n",
    "txn_small"
   ]
  },
  {
   "cell_type": "markdown",
   "id": "b2b215fb",
   "metadata": {},
   "source": [
    "<h2>Sum transaction amounts for each node pair</h2>"
   ]
  },
  {
   "cell_type": "code",
   "execution_count": 18,
   "id": "beb30e66",
   "metadata": {},
   "outputs": [
    {
     "data": {
      "text/html": [
       "<div>\n",
       "<style scoped>\n",
       "    .dataframe tbody tr th:only-of-type {\n",
       "        vertical-align: middle;\n",
       "    }\n",
       "\n",
       "    .dataframe tbody tr th {\n",
       "        vertical-align: top;\n",
       "    }\n",
       "\n",
       "    .dataframe thead th {\n",
       "        text-align: right;\n",
       "    }\n",
       "</style>\n",
       "<table border=\"1\" class=\"dataframe\">\n",
       "  <thead>\n",
       "    <tr style=\"text-align: right;\">\n",
       "      <th></th>\n",
       "      <th>source</th>\n",
       "      <th>target</th>\n",
       "      <th>agg_txn_count</th>\n",
       "      <th>agg_txn_amt</th>\n",
       "    </tr>\n",
       "  </thead>\n",
       "  <tbody>\n",
       "    <tr>\n",
       "      <th>0</th>\n",
       "      <td>1</td>\n",
       "      <td>884</td>\n",
       "      <td>24</td>\n",
       "      <td>4,219</td>\n",
       "    </tr>\n",
       "    <tr>\n",
       "      <th>1</th>\n",
       "      <td>10</td>\n",
       "      <td>8317</td>\n",
       "      <td>21</td>\n",
       "      <td>2,003</td>\n",
       "    </tr>\n",
       "    <tr>\n",
       "      <th>2</th>\n",
       "      <td>10</td>\n",
       "      <td>8520</td>\n",
       "      <td>21</td>\n",
       "      <td>2,003</td>\n",
       "    </tr>\n",
       "    <tr>\n",
       "      <th>3</th>\n",
       "      <td>100</td>\n",
       "      <td>3472</td>\n",
       "      <td>18</td>\n",
       "      <td>978</td>\n",
       "    </tr>\n",
       "    <tr>\n",
       "      <th>4</th>\n",
       "      <td>100</td>\n",
       "      <td>9954</td>\n",
       "      <td>18</td>\n",
       "      <td>978</td>\n",
       "    </tr>\n",
       "    <tr>\n",
       "      <th>...</th>\n",
       "      <td>...</td>\n",
       "      <td>...</td>\n",
       "      <td>...</td>\n",
       "      <td>...</td>\n",
       "    </tr>\n",
       "    <tr>\n",
       "      <th>68942</th>\n",
       "      <td>9999</td>\n",
       "      <td>9866</td>\n",
       "      <td>19</td>\n",
       "      <td>6,035</td>\n",
       "    </tr>\n",
       "    <tr>\n",
       "      <th>68943</th>\n",
       "      <td>9999</td>\n",
       "      <td>9981</td>\n",
       "      <td>19</td>\n",
       "      <td>6,035</td>\n",
       "    </tr>\n",
       "    <tr>\n",
       "      <th>68944</th>\n",
       "      <td>9999</td>\n",
       "      <td>9982</td>\n",
       "      <td>19</td>\n",
       "      <td>6,035</td>\n",
       "    </tr>\n",
       "    <tr>\n",
       "      <th>68945</th>\n",
       "      <td>9999</td>\n",
       "      <td>9985</td>\n",
       "      <td>19</td>\n",
       "      <td>6,035</td>\n",
       "    </tr>\n",
       "    <tr>\n",
       "      <th>68946</th>\n",
       "      <td>9999</td>\n",
       "      <td>9986</td>\n",
       "      <td>19</td>\n",
       "      <td>6,035</td>\n",
       "    </tr>\n",
       "  </tbody>\n",
       "</table>\n",
       "<p>68947 rows × 4 columns</p>\n",
       "</div>"
      ],
      "text/plain": [
       "      source target  agg_txn_count  agg_txn_amt\n",
       "0          1    884             24        4,219\n",
       "1         10   8317             21        2,003\n",
       "2         10   8520             21        2,003\n",
       "3        100   3472             18          978\n",
       "4        100   9954             18          978\n",
       "...      ...    ...            ...          ...\n",
       "68942   9999   9866             19        6,035\n",
       "68943   9999   9981             19        6,035\n",
       "68944   9999   9982             19        6,035\n",
       "68945   9999   9985             19        6,035\n",
       "68946   9999   9986             19        6,035\n",
       "\n",
       "[68947 rows x 4 columns]"
      ]
     },
     "execution_count": 18,
     "metadata": {},
     "output_type": "execute_result"
    }
   ],
   "source": [
    "# Form nodes and edges by grouping by account numbers with a count of transactions and sum of amounts\n",
    "# Money came from source account and target is the account it went to\n",
    "# Create new columns agg_txn_count(number of transactions) and agg_txn_amt (sum of all transactions)\n",
    "edge_small = txn_small.groupby(['SENDER_ACCOUNT_ID', 'RECEIVER_ACCOUNT_ID'],as_index=False).agg({'TX_AMOUNT':['count','sum']})\n",
    "edge_small.columns = ['source','target','agg_txn_count','agg_txn_amt']\n",
    "edge_small"
   ]
  },
  {
   "cell_type": "code",
   "execution_count": null,
   "id": "36a0d29f",
   "metadata": {},
   "outputs": [],
   "source": [
    "# Make df smaller for faster processing\n",
    "first_5000_rows_df = edge_small.head(5000)\n",
    "first_5000_rows_df"
   ]
  },
  {
   "cell_type": "markdown",
   "id": "9116b6d3",
   "metadata": {},
   "source": [
    "<h2>Construct Network with NetworkX</h2>"
   ]
  },
  {
   "cell_type": "code",
   "execution_count": null,
   "id": "f6b17c05",
   "metadata": {},
   "outputs": [],
   "source": [
    "# Create graph network with networkX\n",
    "G = nx.from_pandas_edgelist(first_5000_rows_df, source='source', target='target')"
   ]
  },
  {
   "cell_type": "code",
   "execution_count": null,
   "id": "cd46e90e",
   "metadata": {},
   "outputs": [],
   "source": [
    "# Access node and edge information from G, variable that stores graph\n",
    "# Show first five nodes of graph, pattern is source, target, source, target, source, target\n",
    "list(G.nodes)[0:5]"
   ]
  },
  {
   "cell_type": "code",
   "execution_count": null,
   "id": "5d57fa08",
   "metadata": {
    "scrolled": true
   },
   "outputs": [],
   "source": [
    "# Show the first 5 edge of G\n",
    "# Shows ('target', 'source')\n",
    "list(G.edges)[0:5]"
   ]
  },
  {
   "cell_type": "code",
   "execution_count": null,
   "id": "19ed07ae",
   "metadata": {},
   "outputs": [],
   "source": [
    "# Show the first 5 edge of G with all attributes with data=True, there are no attributes in this case\n",
    "list(G.edges(data=True))[0:5]"
   ]
  },
  {
   "cell_type": "code",
   "execution_count": null,
   "id": "0560b5dd",
   "metadata": {},
   "outputs": [],
   "source": [
    "# Show the first 5 nodes of G with all attributes with data=True, there are no attributes in this case\n",
    "list(G.nodes(data=True))[0:5]"
   ]
  },
  {
   "cell_type": "markdown",
   "id": "07ccfa55",
   "metadata": {},
   "source": [
    "<h2>Various network layouts</h2>"
   ]
  },
  {
   "cell_type": "code",
   "execution_count": null,
   "id": "18cd9a7e",
   "metadata": {
    "scrolled": true
   },
   "outputs": [],
   "source": [
    "# Networkx Default Layout\n",
    "# Create a network graph using networkx\n",
    "plt.figure(figsize=(8,6))\n",
    "nx.draw(G)\n",
    "plt.show()"
   ]
  },
  {
   "cell_type": "code",
   "execution_count": null,
   "id": "d0be0930",
   "metadata": {
    "scrolled": true
   },
   "outputs": [],
   "source": [
    "# Debug: Print the graph information\n",
    "# print(f\"Nodes: {G.nodes()}\")\n",
    "# print(f\"Edges: {G.edges()}\")"
   ]
  },
  {
   "cell_type": "code",
   "execution_count": null,
   "id": "4b752e2c",
   "metadata": {},
   "outputs": [],
   "source": [
    "# Create a Pyvis network and visualize the NetworkX graph\n",
    "# Pyvis Default Layout\n",
    "nt = net.Network(width='100%', height='100%', directed=True)\n",
    "nt.from_nx(G)\n",
    "nt.show('01_pyvis_default.html')"
   ]
  },
  {
   "cell_type": "code",
   "execution_count": null,
   "id": "c57a34f4",
   "metadata": {},
   "outputs": [],
   "source": [
    "# Debug: Check the Pyvis network\n",
    "# print(f\"Pyvis Nodes: {nt.nodes}\")\n",
    "# print(f\"Pyvis Edges: {nt.edges}\")"
   ]
  },
  {
   "cell_type": "markdown",
   "id": "d82dec91",
   "metadata": {},
   "source": [
    "<h3>? can't get plot to render below?</h3>"
   ]
  },
  {
   "cell_type": "code",
   "execution_count": null,
   "id": "bdc5fdbe",
   "metadata": {
    "scrolled": true
   },
   "outputs": [],
   "source": [
    "# Is not working, check to see if file was created and if browser and cloud are compatible\n",
    "# see if versions of pyvis and networkX are compatible\n",
    "nt = net.Network(width='100%', height='100%', directed=True)\n",
    "nt.from_nx(G)\n",
    "nt.show('01_pyvis_default.html')"
   ]
  },
  {
   "cell_type": "code",
   "execution_count": null,
   "id": "9834e830",
   "metadata": {},
   "outputs": [],
   "source": [
    "# Debug\n",
    "# Ensure that the Pyvis network object nt is correctly initialized \n",
    "# and that the from_nx method is successfully converting the NetworkX graph.\n",
    "from pyvis.network import Network\n",
    "\n",
    "nt = Network(width='100%', height='100%', directed=True)\n",
    "nt.from_nx(G)\n",
    "\n",
    "# Check the Pyvis network\n",
    "print(nt.nodes)\n",
    "print(nt.edges)"
   ]
  },
  {
   "cell_type": "code",
   "execution_count": null,
   "id": "e6e1c4e9",
   "metadata": {},
   "outputs": [],
   "source": [
    "# Debug\n",
    "# update libaries\n",
    "pip install --upgrade networkx pyvis"
   ]
  },
  {
   "cell_type": "code",
   "execution_count": null,
   "id": "530fe1dc",
   "metadata": {},
   "outputs": [],
   "source": [
    "pip install --upgrade networkx"
   ]
  },
  {
   "cell_type": "code",
   "execution_count": null,
   "id": "ee107e51",
   "metadata": {},
   "outputs": [],
   "source": [
    "pip install --upgrade pyvis"
   ]
  },
  {
   "cell_type": "code",
   "execution_count": null,
   "id": "5820b664",
   "metadata": {},
   "outputs": [],
   "source": [
    "# Debug\n",
    "# Create a Pyvis network and visualize the NetworkX graph\n",
    "nt = Network(width='100%', height='100%', directed=True)\n",
    "nt.from_nx(G)\n",
    "\n",
    "# Debug: Check the Pyvis network\n",
    "print(f\"Pyvis Nodes: {nt.nodes}\")\n",
    "print(f\"Pyvis Edges: {nt.edges}\")\n",
    "\n",
    "# Show the network\n",
    "nt.show('1_pyvis_default.html')"
   ]
  },
  {
   "cell_type": "markdown",
   "id": "aba3ed4b",
   "metadata": {},
   "source": [
    "<h3>Create function for drawing network graph</h3>"
   ]
  },
  {
   "cell_type": "code",
   "execution_count": 15,
   "id": "d71535a9",
   "metadata": {},
   "outputs": [],
   "source": [
    "def show_graph(graph, filename):\n",
    "    nt = net.Network(width='100%', height='100%', directed=True)\n",
    "    nt.from_nx(graph)\n",
    "    nt.show(filename)"
   ]
  },
  {
   "cell_type": "markdown",
   "id": "c8a02521",
   "metadata": {},
   "source": [
    "<h3>Set Node Attributes</h3>"
   ]
  },
  {
   "cell_type": "markdown",
   "id": "98a9f262",
   "metadata": {},
   "source": [
    "<h3>Set the node size according to the degree (number of connections) of node</h3>"
   ]
  },
  {
   "cell_type": "code",
   "execution_count": 17,
   "id": "cd26ce18",
   "metadata": {},
   "outputs": [
    {
     "data": {
      "text/plain": [
       "[('1', 1), ('884', 1), ('10', 2), ('8317', 3), ('8520', 2)]"
      ]
     },
     "execution_count": 17,
     "metadata": {},
     "output_type": "execute_result"
    }
   ],
   "source": [
    "# List source, \n",
    "# ('source1, is connencted to 1 target'), ('targetamt884', 'is ')\n",
    "list(G.degree)[0:5]"
   ]
  },
  {
   "cell_type": "code",
   "execution_count": null,
   "id": "a47e012a",
   "metadata": {},
   "outputs": [],
   "source": []
  }
 ],
 "metadata": {
  "kernelspec": {
   "display_name": "Python 3 (ipykernel)",
   "language": "python",
   "name": "python3"
  },
  "language_info": {
   "codemirror_mode": {
    "name": "ipython",
    "version": 3
   },
   "file_extension": ".py",
   "mimetype": "text/x-python",
   "name": "python",
   "nbconvert_exporter": "python",
   "pygments_lexer": "ipython3",
   "version": "3.11.7"
  }
 },
 "nbformat": 4,
 "nbformat_minor": 5
}
