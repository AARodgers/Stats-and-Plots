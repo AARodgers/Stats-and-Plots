{
 "cells": [
  {
   "cell_type": "markdown",
   "id": "e5c9004a",
   "metadata": {},
   "source": [
    "Amanda Rodgers\n",
    "July 18, 2024\n",
    "Anti-money laundering Project"
   ]
  },
  {
   "cell_type": "code",
   "execution_count": null,
   "id": "bda4cfe3",
   "metadata": {},
   "outputs": [],
   "source": [
    "# Dataset: https://www.kaggle.com/datasets/anshankul/ibm-amlsim-example-dataset?select=transactions.csv\n",
    "# Tutorial: https://medium.com/@jasonclwu/network-analysis-for-anti-money-laundering-with-python-ad981792a947\n",
    "# Github: https://github.com/jasonclwu/202209_AML_Network_Analysis/blob/main/AML_Network_Analysis.ipynb"
   ]
  },
  {
   "cell_type": "code",
   "execution_count": null,
   "id": "6f24be2a",
   "metadata": {},
   "outputs": [],
   "source": [
    "# Import libraries\n",
    "import pandas as pd\n",
    "import networkx as nx\n",
    "from pyvis.network import Network as net\n",
    "# from pyvis import Network as net\n",
    "import matplotlib.pyplot as plt\n",
    "%matplotlib inline\n",
    "pd.options.display.float_format = '{:,.0f}'.format"
   ]
  },
  {
   "cell_type": "code",
   "execution_count": null,
   "id": "9cc52f4a",
   "metadata": {},
   "outputs": [],
   "source": [
    "# Create df with dataset\n",
    "txn_small = pd.read_csv('transactions.csv', usecols=['SENDER_ACCOUNT_ID','RECEIVER_ACCOUNT_ID','TX_AMOUNT'], dtype='object')\n",
    "txn_small['TX_AMOUNT'] = txn_small['TX_AMOUNT'].astype(float)\n",
    "txn_small"
   ]
  },
  {
   "cell_type": "markdown",
   "id": "b2b215fb",
   "metadata": {},
   "source": [
    "<h2>Sum transaction amounts for each node pair</h2>"
   ]
  },
  {
   "cell_type": "code",
   "execution_count": null,
   "id": "beb30e66",
   "metadata": {},
   "outputs": [],
   "source": [
    "# Form nodes and edges by grouping by account numbers with a count of transactions and sum of amounts\n",
    "# Money came from source account and target is the account it went to\n",
    "# Create new columns agg_txn_count(number of transactions) and agg_txn_amt (sum of all transactions)\n",
    "edge_small = txn_small.groupby(['SENDER_ACCOUNT_ID', 'RECEIVER_ACCOUNT_ID'],as_index=False).agg({'TX_AMOUNT':['count','sum']})\n",
    "edge_small.columns = ['source','target','agg_txn_count','agg_txn_amt']\n",
    "edge_small"
   ]
  },
  {
   "cell_type": "code",
   "execution_count": 33,
   "id": "36a0d29f",
   "metadata": {},
   "outputs": [
    {
     "data": {
      "text/html": [
       "<div>\n",
       "<style scoped>\n",
       "    .dataframe tbody tr th:only-of-type {\n",
       "        vertical-align: middle;\n",
       "    }\n",
       "\n",
       "    .dataframe tbody tr th {\n",
       "        vertical-align: top;\n",
       "    }\n",
       "\n",
       "    .dataframe thead th {\n",
       "        text-align: right;\n",
       "    }\n",
       "</style>\n",
       "<table border=\"1\" class=\"dataframe\">\n",
       "  <thead>\n",
       "    <tr style=\"text-align: right;\">\n",
       "      <th></th>\n",
       "      <th>source</th>\n",
       "      <th>target</th>\n",
       "      <th>agg_txn_count</th>\n",
       "      <th>agg_txn_amt</th>\n",
       "    </tr>\n",
       "  </thead>\n",
       "  <tbody>\n",
       "    <tr>\n",
       "      <th>0</th>\n",
       "      <td>1</td>\n",
       "      <td>884</td>\n",
       "      <td>24</td>\n",
       "      <td>4,219</td>\n",
       "    </tr>\n",
       "    <tr>\n",
       "      <th>1</th>\n",
       "      <td>10</td>\n",
       "      <td>8317</td>\n",
       "      <td>21</td>\n",
       "      <td>2,003</td>\n",
       "    </tr>\n",
       "    <tr>\n",
       "      <th>2</th>\n",
       "      <td>10</td>\n",
       "      <td>8520</td>\n",
       "      <td>21</td>\n",
       "      <td>2,003</td>\n",
       "    </tr>\n",
       "    <tr>\n",
       "      <th>3</th>\n",
       "      <td>100</td>\n",
       "      <td>3472</td>\n",
       "      <td>18</td>\n",
       "      <td>978</td>\n",
       "    </tr>\n",
       "    <tr>\n",
       "      <th>4</th>\n",
       "      <td>100</td>\n",
       "      <td>9954</td>\n",
       "      <td>18</td>\n",
       "      <td>978</td>\n",
       "    </tr>\n",
       "    <tr>\n",
       "      <th>...</th>\n",
       "      <td>...</td>\n",
       "      <td>...</td>\n",
       "      <td>...</td>\n",
       "      <td>...</td>\n",
       "    </tr>\n",
       "    <tr>\n",
       "      <th>4995</th>\n",
       "      <td>2121</td>\n",
       "      <td>8634</td>\n",
       "      <td>22</td>\n",
       "      <td>467</td>\n",
       "    </tr>\n",
       "    <tr>\n",
       "      <th>4996</th>\n",
       "      <td>2121</td>\n",
       "      <td>9388</td>\n",
       "      <td>22</td>\n",
       "      <td>467</td>\n",
       "    </tr>\n",
       "    <tr>\n",
       "      <th>4997</th>\n",
       "      <td>2121</td>\n",
       "      <td>9448</td>\n",
       "      <td>22</td>\n",
       "      <td>467</td>\n",
       "    </tr>\n",
       "    <tr>\n",
       "      <th>4998</th>\n",
       "      <td>2121</td>\n",
       "      <td>9968</td>\n",
       "      <td>22</td>\n",
       "      <td>467</td>\n",
       "    </tr>\n",
       "    <tr>\n",
       "      <th>4999</th>\n",
       "      <td>2122</td>\n",
       "      <td>269</td>\n",
       "      <td>26</td>\n",
       "      <td>665</td>\n",
       "    </tr>\n",
       "  </tbody>\n",
       "</table>\n",
       "<p>5000 rows × 4 columns</p>\n",
       "</div>"
      ],
      "text/plain": [
       "     source target  agg_txn_count  agg_txn_amt\n",
       "0         1    884             24        4,219\n",
       "1        10   8317             21        2,003\n",
       "2        10   8520             21        2,003\n",
       "3       100   3472             18          978\n",
       "4       100   9954             18          978\n",
       "...     ...    ...            ...          ...\n",
       "4995   2121   8634             22          467\n",
       "4996   2121   9388             22          467\n",
       "4997   2121   9448             22          467\n",
       "4998   2121   9968             22          467\n",
       "4999   2122    269             26          665\n",
       "\n",
       "[5000 rows x 4 columns]"
      ]
     },
     "execution_count": 33,
     "metadata": {},
     "output_type": "execute_result"
    }
   ],
   "source": [
    "# Make df smaller for faster processing\n",
    "first_5000_rows_df = edge_small.head(5000)\n",
    "first_5000_rows_df"
   ]
  },
  {
   "cell_type": "markdown",
   "id": "9116b6d3",
   "metadata": {},
   "source": [
    "<h2>Construct Network with NetworkX</h2>"
   ]
  },
  {
   "cell_type": "code",
   "execution_count": null,
   "id": "f6b17c05",
   "metadata": {},
   "outputs": [],
   "source": [
    "# Create graph network with networkX\n",
    "G = nx.from_pandas_edgelist(first_5000_rows_df, source='source', target='target')"
   ]
  },
  {
   "cell_type": "code",
   "execution_count": null,
   "id": "cd46e90e",
   "metadata": {},
   "outputs": [],
   "source": [
    "# Access node and edge information from G, variable that stores graph\n",
    "# Show first five nodes of graph, pattern is source, target, source, target, source, target\n",
    "list(G.nodes)[0:5]"
   ]
  },
  {
   "cell_type": "code",
   "execution_count": null,
   "id": "5d57fa08",
   "metadata": {
    "scrolled": true
   },
   "outputs": [],
   "source": [
    "# Show the first 5 edge of G\n",
    "# Shows ('target', 'source')\n",
    "list(G.edges)[0:5]"
   ]
  },
  {
   "cell_type": "code",
   "execution_count": null,
   "id": "19ed07ae",
   "metadata": {},
   "outputs": [],
   "source": [
    "# Show the first 5 edge of G with all attributes with data=True, there are no attributes in this case\n",
    "# [('source', 'target' {attributes})]\n",
    "list(G.edges(data=True))[0:5]"
   ]
  },
  {
   "cell_type": "code",
   "execution_count": null,
   "id": "0560b5dd",
   "metadata": {},
   "outputs": [],
   "source": [
    "# Show the first 5 nodes of G with all attributes with data=True, there are no attributes in this case\n",
    "list(G.nodes(data=True))[0:5]"
   ]
  },
  {
   "cell_type": "markdown",
   "id": "07ccfa55",
   "metadata": {},
   "source": [
    "<h2>Various network layouts</h2>"
   ]
  },
  {
   "cell_type": "code",
   "execution_count": null,
   "id": "18cd9a7e",
   "metadata": {
    "scrolled": true
   },
   "outputs": [],
   "source": [
    "# Networkx Default Layout\n",
    "# Create a network graph using networkx\n",
    "plt.figure(figsize=(8,6))\n",
    "nx.draw(G)\n",
    "plt.show()"
   ]
  },
  {
   "cell_type": "code",
   "execution_count": null,
   "id": "d0be0930",
   "metadata": {
    "scrolled": true
   },
   "outputs": [],
   "source": [
    "# Debug: Print the graph information\n",
    "# print(f\"Nodes: {G.nodes()}\")\n",
    "# print(f\"Edges: {G.edges()}\")"
   ]
  },
  {
   "cell_type": "code",
   "execution_count": null,
   "id": "4b752e2c",
   "metadata": {},
   "outputs": [],
   "source": [
    "# Create a Pyvis network and visualize the NetworkX graph\n",
    "# Pyvis Default Layout\n",
    "# nt = net.Network(width='100%', height='100%', directed=True)\n",
    "# nt.from_nx(G)\n",
    "# nt.show('01_pyvis_default.html')"
   ]
  },
  {
   "cell_type": "code",
   "execution_count": null,
   "id": "c57a34f4",
   "metadata": {},
   "outputs": [],
   "source": [
    "# Debug: Check the Pyvis network\n",
    "# print(f\"Pyvis Nodes: {nt.nodes}\")\n",
    "# print(f\"Pyvis Edges: {nt.edges}\")"
   ]
  },
  {
   "cell_type": "markdown",
   "id": "826fac6a",
   "metadata": {},
   "source": [
    "<h3>? can't get plot to render below?</h3>"
   ]
  },
  {
   "cell_type": "code",
   "execution_count": null,
   "id": "bdc5fdbe",
   "metadata": {
    "scrolled": true
   },
   "outputs": [],
   "source": [
    "# Is not working, check to see if file was created and if browser and cloud are compatible\n",
    "# see if versions of pyvis and networkX are compatible\n",
    "# ERROR AttributeError: module 'pyvis.network' has no attribute 'network'(pyvis object net.network is not\n",
    "# being created)\n",
    "\n",
    "nt = net.Network(width='100%', height='100%', directed=True)\n",
    "nt.from_nx(G)\n",
    "nt.show('01_pyvis_default.html')"
   ]
  },
  {
   "cell_type": "code",
   "execution_count": null,
   "id": "9834e830",
   "metadata": {},
   "outputs": [],
   "source": [
    "# Debug\n",
    "# Ensure that the Pyvis network object nt is correctly initialized \n",
    "# and that the from_nx method is successfully converting the NetworkX graph.\n",
    "from pyvis.network import Network\n",
    "\n",
    "nt = Network(width='100%', height='100%', directed=True)\n",
    "nt.from_nx(G)\n",
    "\n",
    "# Check the Pyvis network\n",
    "print(nt.nodes)\n",
    "print(nt.edges)"
   ]
  },
  {
   "cell_type": "code",
   "execution_count": null,
   "id": "530fe1dc",
   "metadata": {},
   "outputs": [],
   "source": [
    "pip install --upgrade networkx"
   ]
  },
  {
   "cell_type": "code",
   "execution_count": null,
   "id": "ee107e51",
   "metadata": {
    "scrolled": true
   },
   "outputs": [],
   "source": [
    "pip install --upgrade pyvis"
   ]
  },
  {
   "cell_type": "code",
   "execution_count": null,
   "id": "5820b664",
   "metadata": {},
   "outputs": [],
   "source": [
    "# Debug\n",
    "# Create a Pyvis network and visualize the NetworkX graph\n",
    "nt = Network(width='100%', height='100%', directed=True)\n",
    "nt.from_nx(G)\n",
    "\n",
    "# Debug: Check the Pyvis network\n",
    "print(f\"Pyvis Nodes: {nt.nodes}\")\n",
    "print(f\"Pyvis Edges: {nt.edges}\")\n",
    "\n",
    "# Show the network\n",
    "nt.show('1_pyvis_default.html')"
   ]
  },
  {
   "cell_type": "markdown",
   "id": "3dfbf05c",
   "metadata": {},
   "source": [
    "<h3>Create function for drawing network graph</h3>"
   ]
  },
  {
   "cell_type": "code",
   "execution_count": null,
   "id": "fbac68ed",
   "metadata": {},
   "outputs": [],
   "source": [
    "def show_graph(graph, filename):\n",
    "    nt = net.Network(width='100%', height='100%', directed=True)\n",
    "    nt.from_nx(graph)\n",
    "    nt.show(filename)"
   ]
  },
  {
   "cell_type": "markdown",
   "id": "3800ace1",
   "metadata": {},
   "source": [
    "<h3>Set Node Attributes</h3>"
   ]
  },
  {
   "cell_type": "markdown",
   "id": "10564caf",
   "metadata": {},
   "source": [
    "<h3>Set the node size according to the degree (number of connections) of node</h3>"
   ]
  },
  {
   "cell_type": "code",
   "execution_count": 23,
   "id": "db2730ec",
   "metadata": {},
   "outputs": [
    {
     "data": {
      "text/plain": [
       "[('1', 1), ('884', 1), ('10', 2), ('8317', 3), ('8520', 2)]"
      ]
     },
     "execution_count": 23,
     "metadata": {},
     "output_type": "execute_result"
    }
   ],
   "source": [
    "# List source, \n",
    "# ?? follow on graph what these mean('source1', has 1 connection), ('targetamt884', 'is connected with source1'), ('source10', 'has 2 connections')\n",
    "list(G.degree)[0:5]"
   ]
  },
  {
   "cell_type": "code",
   "execution_count": 25,
   "id": "d83afba0",
   "metadata": {},
   "outputs": [],
   "source": [
    "# Creates a dictionary of key = node id and value = node degree (how many connections that node has)\n",
    "# Nodes with a bigger degree will appear bigger in the graph\n",
    "degree_dict_G = dict(G.degree)\n",
    "nx.set_node_attributes(G, degree_dict_G, 'value')"
   ]
  },
  {
   "cell_type": "code",
   "execution_count": 26,
   "id": "5efdde4c",
   "metadata": {
    "scrolled": true
   },
   "outputs": [
    {
     "data": {
      "text/plain": [
       "[('1', {'size': 10, 'value': 1}),\n",
       " ('884', {'size': 10, 'value': 1}),\n",
       " ('10', {'size': 10, 'value': 2}),\n",
       " ('8317', {'size': 10, 'value': 3}),\n",
       " ('8520', {'size': 10, 'value': 2})]"
      ]
     },
     "execution_count": 26,
     "metadata": {},
     "output_type": "execute_result"
    }
   ],
   "source": [
    "# List graph dictionary of nodes with attributes size and value being number of connections (same as size but pyvis \n",
    "# recognizes it different)\n",
    "# size = number of connections to that node\n",
    "# Below shows that the new attribute value has been added\n",
    "list(G.nodes(data=True))[0:5]"
   ]
  },
  {
   "cell_type": "markdown",
   "id": "7eabe46c",
   "metadata": {},
   "source": [
    "<h3>Graph won't render, pyvis net.network object never created</h3>"
   ]
  },
  {
   "cell_type": "code",
   "execution_count": 28,
   "id": "c0fb2f74",
   "metadata": {},
   "outputs": [
    {
     "ename": "NameError",
     "evalue": "name 'show_graph' is not defined",
     "output_type": "error",
     "traceback": [
      "\u001b[0;31m---------------------------------------------------------------------------\u001b[0m",
      "\u001b[0;31mNameError\u001b[0m                                 Traceback (most recent call last)",
      "Cell \u001b[0;32mIn[28], line 1\u001b[0m\n\u001b[0;32m----> 1\u001b[0m show_graph(G, \u001b[38;5;124m'\u001b[39m\u001b[38;5;124m02_node_size.html\u001b[39m\u001b[38;5;124m'\u001b[39m)\n",
      "\u001b[0;31mNameError\u001b[0m: name 'show_graph' is not defined"
     ]
    }
   ],
   "source": [
    "show_graph(G, '02_node_size.html')"
   ]
  },
  {
   "cell_type": "markdown",
   "id": "149ec043",
   "metadata": {},
   "source": [
    "<h3> ?? graph won't render</h3>"
   ]
  },
  {
   "cell_type": "code",
   "execution_count": 29,
   "id": "801cd656",
   "metadata": {
    "scrolled": true
   },
   "outputs": [
    {
     "ename": "AttributeError",
     "evalue": "'Network' object has no attribute 'show_graph'",
     "output_type": "error",
     "traceback": [
      "\u001b[0;31m---------------------------------------------------------------------------\u001b[0m",
      "\u001b[0;31mAttributeError\u001b[0m                            Traceback (most recent call last)",
      "Cell \u001b[0;32mIn[29], line 2\u001b[0m\n\u001b[1;32m      1\u001b[0m \u001b[38;5;66;03m# Show graph to that nodes with higher degrees are larger\u001b[39;00m\n\u001b[0;32m----> 2\u001b[0m nt\u001b[38;5;241m.\u001b[39mshow_graph()\n",
      "\u001b[0;31mAttributeError\u001b[0m: 'Network' object has no attribute 'show_graph'"
     ]
    }
   ],
   "source": [
    "# Show graph to that nodes with higher degrees are larger\n",
    "# Besides using degree as the centrality measurement, \n",
    "# you can also use other measurements under graph theory (link) such as eigenvector, closeness, betweenness etc\n",
    "# For any above, you have to obtain the measurement for each node in a dictionary form, then pass the dictionary \n",
    "# to the node attribute with attribute name of value.\n",
    "nt.show_graph()"
   ]
  },
  {
   "cell_type": "markdown",
   "id": "bfad4e20",
   "metadata": {},
   "source": [
    "<h3>Display Node Information on Hover</h3>"
   ]
  },
  {
   "cell_type": "markdown",
   "id": "5a50fb9b",
   "metadata": {},
   "source": [
    "<h3> graph will not render???</h3>"
   ]
  },
  {
   "cell_type": "code",
   "execution_count": 30,
   "id": "aaa3f1b3",
   "metadata": {},
   "outputs": [
    {
     "ename": "NameError",
     "evalue": "name 'show_graph' is not defined",
     "output_type": "error",
     "traceback": [
      "\u001b[0;31m---------------------------------------------------------------------------\u001b[0m",
      "\u001b[0;31mNameError\u001b[0m                                 Traceback (most recent call last)",
      "Cell \u001b[0;32mIn[30], line 6\u001b[0m\n\u001b[1;32m      4\u001b[0m     title_dict_G[node] \u001b[38;5;241m=\u001b[39m \u001b[38;5;124mf\u001b[39m\u001b[38;5;124m'\u001b[39m\u001b[38;5;124mid: \u001b[39m\u001b[38;5;132;01m{\u001b[39;00mnode\u001b[38;5;132;01m}\u001b[39;00m\u001b[38;5;124m'\u001b[39m\n\u001b[1;32m      5\u001b[0m nx\u001b[38;5;241m.\u001b[39mset_node_attributes(G, title_dict_G, \u001b[38;5;124m'\u001b[39m\u001b[38;5;124mtitle\u001b[39m\u001b[38;5;124m'\u001b[39m)\n\u001b[0;32m----> 6\u001b[0m show_graph(G, \u001b[38;5;124m'\u001b[39m\u001b[38;5;124m03_node_title_1.html\u001b[39m\u001b[38;5;124m'\u001b[39m)\n",
      "\u001b[0;31mNameError\u001b[0m: name 'show_graph' is not defined"
     ]
    }
   ],
   "source": [
    "# Use title attribute to show info of node when you hover over it\n",
    "# if you want to add more info in addition to account number, pass more information to the title attribute\n",
    "title_dict_G = {}\n",
    "for node in list(G.nodes):\n",
    "    title_dict_G[node] = f'id: {node}'\n",
    "nx.set_node_attributes(G, title_dict_G, 'title')\n",
    "show_graph(G, '03_node_title_1.html')"
   ]
  },
  {
   "cell_type": "markdown",
   "id": "2a46badf",
   "metadata": {},
   "source": [
    "<h3>Retrieve neighbors for each node</h3>"
   ]
  },
  {
   "cell_type": "code",
   "execution_count": 34,
   "id": "4f475ce8",
   "metadata": {},
   "outputs": [
    {
     "data": {
      "text/plain": [
       "['3674', '6042', '6735', '7028', '8634']"
      ]
     },
     "execution_count": 34,
     "metadata": {},
     "output_type": "execute_result"
    }
   ],
   "source": [
    "# List neighbors of node 2121\n",
    "list(G.neighbors('2121'))[0:5]"
   ]
  },
  {
   "cell_type": "code",
   "execution_count": 35,
   "id": "2895b045",
   "metadata": {},
   "outputs": [],
   "source": [
    "# Create a dictionary of neighbor list for each node\n",
    "neighbor_dict_G = {}\n",
    "for node in list(G.nodes):\n",
    "    neighbor_dict_G[node] = ','.join(G.neighbors(node))"
   ]
  },
  {
   "cell_type": "markdown",
   "id": "de84a226",
   "metadata": {},
   "source": [
    "<h3> ? graph won't show, error: NameError: name 'show_graph' is not defined</h3>"
   ]
  },
  {
   "cell_type": "code",
   "execution_count": 36,
   "id": "198c1884",
   "metadata": {},
   "outputs": [
    {
     "ename": "NameError",
     "evalue": "name 'show_graph' is not defined",
     "output_type": "error",
     "traceback": [
      "\u001b[0;31m---------------------------------------------------------------------------\u001b[0m",
      "\u001b[0;31mNameError\u001b[0m                                 Traceback (most recent call last)",
      "Cell \u001b[0;32mIn[36], line 8\u001b[0m\n\u001b[1;32m      5\u001b[0m     title_dict_G[node] \u001b[38;5;241m=\u001b[39m \u001b[38;5;124mf\u001b[39m\u001b[38;5;124m'\u001b[39m\u001b[38;5;124mid: \u001b[39m\u001b[38;5;132;01m{\u001b[39;00mnode\u001b[38;5;132;01m}\u001b[39;00m\u001b[38;5;130;01m\\n\u001b[39;00m\u001b[38;5;124mdegree: \u001b[39m\u001b[38;5;132;01m{\u001b[39;00mdegree_dict_G[node]\u001b[38;5;132;01m}\u001b[39;00m\u001b[38;5;130;01m\\n\u001b[39;00m\u001b[38;5;124mneighbor: \u001b[39m\u001b[38;5;132;01m{\u001b[39;00mneighbor_dict_G[node]\u001b[38;5;132;01m}\u001b[39;00m\u001b[38;5;124m'\u001b[39m\n\u001b[1;32m      6\u001b[0m nx\u001b[38;5;241m.\u001b[39mset_node_attributes(G, title_dict_G, \u001b[38;5;124m'\u001b[39m\u001b[38;5;124mtitle\u001b[39m\u001b[38;5;124m'\u001b[39m)\n\u001b[0;32m----> 8\u001b[0m show_graph(G, \u001b[38;5;124m'\u001b[39m\u001b[38;5;124m04_node_title_2.html\u001b[39m\u001b[38;5;124m'\u001b[39m)\n",
      "\u001b[0;31mNameError\u001b[0m: name 'show_graph' is not defined"
     ]
    }
   ],
   "source": [
    "# Incorporate the dictionary to the attribute title to display: \n",
    "# Display ID, Degree and Neighbors in Graph (Hover on Node)\n",
    "title_dict_G = {}\n",
    "for node in list(G.nodes):\n",
    "    title_dict_G[node] = f'id: {node}\\ndegree: {degree_dict_G[node]}\\nneighbor: {neighbor_dict_G[node]}'\n",
    "nx.set_node_attributes(G, title_dict_G, 'title')\n",
    "\n",
    "show_graph(G, '04_node_title_2.html')"
   ]
  },
  {
   "cell_type": "code",
   "execution_count": null,
   "id": "d808a2fc",
   "metadata": {},
   "outputs": [],
   "source": [
    "# NOTE: you can update the node attribute dictionary under G which the attribute name (dictionary key) \n",
    "# needs to match with pyvis’s parameter name (label, title, size, value and etc.)"
   ]
  },
  {
   "cell_type": "markdown",
   "id": "9df9059a",
   "metadata": {},
   "source": [
    "<h3>Setting Edge Attributes</h3>"
   ]
  },
  {
   "cell_type": "code",
   "execution_count": null,
   "id": "b3bdef17",
   "metadata": {},
   "outputs": [],
   "source": [
    "# Set the edge attributes dictionary under G\n",
    "# you can adjust the edge width according to the aggregated transaction amount between accounts, \n",
    "# and show detailed edge information on hover such as payer, payee, aggregated transaction amount \n",
    "# and aggregated transaction count"
   ]
  },
  {
   "cell_type": "code",
   "execution_count": 38,
   "id": "d289ca3a",
   "metadata": {},
   "outputs": [
    {
     "data": {
      "text/html": [
       "<div>\n",
       "<style scoped>\n",
       "    .dataframe tbody tr th:only-of-type {\n",
       "        vertical-align: middle;\n",
       "    }\n",
       "\n",
       "    .dataframe tbody tr th {\n",
       "        vertical-align: top;\n",
       "    }\n",
       "\n",
       "    .dataframe thead th {\n",
       "        text-align: right;\n",
       "    }\n",
       "</style>\n",
       "<table border=\"1\" class=\"dataframe\">\n",
       "  <thead>\n",
       "    <tr style=\"text-align: right;\">\n",
       "      <th></th>\n",
       "      <th>source</th>\n",
       "      <th>target</th>\n",
       "      <th>agg_txn_count</th>\n",
       "      <th>agg_txn_amt</th>\n",
       "      <th>value</th>\n",
       "      <th>title</th>\n",
       "    </tr>\n",
       "  </thead>\n",
       "  <tbody>\n",
       "    <tr>\n",
       "      <th>0</th>\n",
       "      <td>1</td>\n",
       "      <td>884</td>\n",
       "      <td>24</td>\n",
       "      <td>4,219</td>\n",
       "      <td>4,219</td>\n",
       "      <td>from: 1\\nto: 884\\nagg_count: 24\\nagg_amount: 4...</td>\n",
       "    </tr>\n",
       "    <tr>\n",
       "      <th>1</th>\n",
       "      <td>10</td>\n",
       "      <td>8317</td>\n",
       "      <td>21</td>\n",
       "      <td>2,003</td>\n",
       "      <td>2,003</td>\n",
       "      <td>from: 10\\nto: 8317\\nagg_count: 21\\nagg_amount:...</td>\n",
       "    </tr>\n",
       "    <tr>\n",
       "      <th>2</th>\n",
       "      <td>10</td>\n",
       "      <td>8520</td>\n",
       "      <td>21</td>\n",
       "      <td>2,003</td>\n",
       "      <td>2,003</td>\n",
       "      <td>from: 10\\nto: 8520\\nagg_count: 21\\nagg_amount:...</td>\n",
       "    </tr>\n",
       "    <tr>\n",
       "      <th>3</th>\n",
       "      <td>100</td>\n",
       "      <td>3472</td>\n",
       "      <td>18</td>\n",
       "      <td>978</td>\n",
       "      <td>978</td>\n",
       "      <td>from: 100\\nto: 3472\\nagg_count: 18\\nagg_amount...</td>\n",
       "    </tr>\n",
       "    <tr>\n",
       "      <th>4</th>\n",
       "      <td>100</td>\n",
       "      <td>9954</td>\n",
       "      <td>18</td>\n",
       "      <td>978</td>\n",
       "      <td>978</td>\n",
       "      <td>from: 100\\nto: 9954\\nagg_count: 18\\nagg_amount...</td>\n",
       "    </tr>\n",
       "  </tbody>\n",
       "</table>\n",
       "</div>"
      ],
      "text/plain": [
       "  source target  agg_txn_count  agg_txn_amt  value  \\\n",
       "0      1    884             24        4,219  4,219   \n",
       "1     10   8317             21        2,003  2,003   \n",
       "2     10   8520             21        2,003  2,003   \n",
       "3    100   3472             18          978    978   \n",
       "4    100   9954             18          978    978   \n",
       "\n",
       "                                               title  \n",
       "0  from: 1\\nto: 884\\nagg_count: 24\\nagg_amount: 4...  \n",
       "1  from: 10\\nto: 8317\\nagg_count: 21\\nagg_amount:...  \n",
       "2  from: 10\\nto: 8520\\nagg_count: 21\\nagg_amount:...  \n",
       "3  from: 100\\nto: 3472\\nagg_count: 18\\nagg_amount...  \n",
       "4  from: 100\\nto: 9954\\nagg_count: 18\\nagg_amount...  "
      ]
     },
     "execution_count": 38,
     "metadata": {},
     "output_type": "execute_result"
    }
   ],
   "source": [
    "# Obtain the edge attribute dictionary by updating the source dataframe edge_small\n",
    "edge_small['value'] = edge_small['agg_txn_amt']\n",
    "edge_small['title'] = edge_small.apply(lambda df: f'from: {df.source}\\nto: {df.target}\\nagg_count: {df.agg_txn_count:,.0f}\\nagg_amount: {df.agg_txn_amt:,.0f}', axis=1)\n",
    "edge_small.head()"
   ]
  },
  {
   "cell_type": "code",
   "execution_count": null,
   "id": "fcb6ec9f",
   "metadata": {},
   "outputs": [],
   "source": [
    "# Value controls the size (width) of edge and title controls the information to be shown on hover"
   ]
  },
  {
   "cell_type": "markdown",
   "id": "d404352d",
   "metadata": {},
   "source": [
    "<h3>Setting edge size and information to display on hover</h3>"
   ]
  },
  {
   "cell_type": "markdown",
   "id": "c4a8465b",
   "metadata": {},
   "source": [
    "<h3> ?? graph won't render</h3>"
   ]
  },
  {
   "cell_type": "code",
   "execution_count": 39,
   "id": "bfe0d530",
   "metadata": {
    "scrolled": true
   },
   "outputs": [
    {
     "ename": "NameError",
     "evalue": "name 'show_graph' is not defined",
     "output_type": "error",
     "traceback": [
      "\u001b[0;31m---------------------------------------------------------------------------\u001b[0m",
      "\u001b[0;31mNameError\u001b[0m                                 Traceback (most recent call last)",
      "Cell \u001b[0;32mIn[39], line 8\u001b[0m\n\u001b[1;32m      5\u001b[0m     edge_dict_G[\u001b[38;5;28mtuple\u001b[39m([row[\u001b[38;5;124m'\u001b[39m\u001b[38;5;124msource\u001b[39m\u001b[38;5;124m'\u001b[39m], row[\u001b[38;5;124m'\u001b[39m\u001b[38;5;124mtarget\u001b[39m\u001b[38;5;124m'\u001b[39m]])] \u001b[38;5;241m=\u001b[39m {\u001b[38;5;124m'\u001b[39m\u001b[38;5;124mvalue\u001b[39m\u001b[38;5;124m'\u001b[39m:row[\u001b[38;5;124m'\u001b[39m\u001b[38;5;124mvalue\u001b[39m\u001b[38;5;124m'\u001b[39m], \u001b[38;5;124m'\u001b[39m\u001b[38;5;124mtitle\u001b[39m\u001b[38;5;124m'\u001b[39m:row[\u001b[38;5;124m'\u001b[39m\u001b[38;5;124mtitle\u001b[39m\u001b[38;5;124m'\u001b[39m]}\n\u001b[1;32m      6\u001b[0m nx\u001b[38;5;241m.\u001b[39mset_edge_attributes(G, edge_dict_G)\n\u001b[0;32m----> 8\u001b[0m show_graph(G, \u001b[38;5;124m'\u001b[39m\u001b[38;5;124m05_edge_title_and_value.html\u001b[39m\u001b[38;5;124m'\u001b[39m)\n",
      "\u001b[0;31mNameError\u001b[0m: name 'show_graph' is not defined"
     ]
    }
   ],
   "source": [
    "# create an edge attribute dictionary for value and title and pass it to G so pyvis will update the edge \n",
    "# layout accordingly\n",
    "# graph is now able to show more information with differentiated edge size and hover information\n",
    "edge_dict_G = {}\n",
    "for index, row in edge_small.iterrows():\n",
    "    edge_dict_G[tuple([row['source'], row['target']])] = {'value':row['value'], 'title':row['title']}\n",
    "nx.set_edge_attributes(G, edge_dict_G)\n",
    "\n",
    "show_graph(G, '05_edge_title_and_value.html')"
   ]
  },
  {
   "cell_type": "markdown",
   "id": "9ffa6c7e",
   "metadata": {},
   "source": [
    "<h3>Community Detection with Large Dataset</h3>"
   ]
  },
  {
   "cell_type": "code",
   "execution_count": null,
   "id": "250b3b78",
   "metadata": {},
   "outputs": [],
   "source": [
    "# explore the network structure of a larger dataset"
   ]
  },
  {
   "cell_type": "code",
   "execution_count": 40,
   "id": "8a1c79d9",
   "metadata": {},
   "outputs": [
    {
     "data": {
      "text/html": [
       "<div>\n",
       "<style scoped>\n",
       "    .dataframe tbody tr th:only-of-type {\n",
       "        vertical-align: middle;\n",
       "    }\n",
       "\n",
       "    .dataframe tbody tr th {\n",
       "        vertical-align: top;\n",
       "    }\n",
       "\n",
       "    .dataframe thead th {\n",
       "        text-align: right;\n",
       "    }\n",
       "</style>\n",
       "<table border=\"1\" class=\"dataframe\">\n",
       "  <thead>\n",
       "    <tr style=\"text-align: right;\">\n",
       "      <th></th>\n",
       "      <th>source</th>\n",
       "      <th>target</th>\n",
       "      <th>agg_edge_large_count</th>\n",
       "      <th>agg_edge_large_amt</th>\n",
       "      <th>value</th>\n",
       "      <th>title</th>\n",
       "    </tr>\n",
       "  </thead>\n",
       "  <tbody>\n",
       "    <tr>\n",
       "      <th>63958</th>\n",
       "      <td>9703</td>\n",
       "      <td>6059</td>\n",
       "      <td>20</td>\n",
       "      <td>2,506</td>\n",
       "      <td>2,506</td>\n",
       "      <td>from: 9703\\nto: 6059\\nagg_count: 20\\nagg_amoun...</td>\n",
       "    </tr>\n",
       "    <tr>\n",
       "      <th>38025</th>\n",
       "      <td>7369</td>\n",
       "      <td>9795</td>\n",
       "      <td>2</td>\n",
       "      <td>1,338,379</td>\n",
       "      <td>1,338,379</td>\n",
       "      <td>from: 7369\\nto: 9795\\nagg_count: 2\\nagg_amount...</td>\n",
       "    </tr>\n",
       "    <tr>\n",
       "      <th>64700</th>\n",
       "      <td>9722</td>\n",
       "      <td>9962</td>\n",
       "      <td>20</td>\n",
       "      <td>2,973</td>\n",
       "      <td>2,973</td>\n",
       "      <td>from: 9722\\nto: 9962\\nagg_count: 20\\nagg_amoun...</td>\n",
       "    </tr>\n",
       "    <tr>\n",
       "      <th>41653</th>\n",
       "      <td>7881</td>\n",
       "      <td>9751</td>\n",
       "      <td>20</td>\n",
       "      <td>5,923</td>\n",
       "      <td>5,923</td>\n",
       "      <td>from: 7881\\nto: 9751\\nagg_count: 20\\nagg_amoun...</td>\n",
       "    </tr>\n",
       "    <tr>\n",
       "      <th>23451</th>\n",
       "      <td>5376</td>\n",
       "      <td>4205</td>\n",
       "      <td>2</td>\n",
       "      <td>1,755,996</td>\n",
       "      <td>1,755,996</td>\n",
       "      <td>from: 5376\\nto: 4205\\nagg_count: 2\\nagg_amount...</td>\n",
       "    </tr>\n",
       "    <tr>\n",
       "      <th>...</th>\n",
       "      <td>...</td>\n",
       "      <td>...</td>\n",
       "      <td>...</td>\n",
       "      <td>...</td>\n",
       "      <td>...</td>\n",
       "      <td>...</td>\n",
       "    </tr>\n",
       "    <tr>\n",
       "      <th>61987</th>\n",
       "      <td>9647</td>\n",
       "      <td>9206</td>\n",
       "      <td>20</td>\n",
       "      <td>3,453</td>\n",
       "      <td>3,453</td>\n",
       "      <td>from: 9647\\nto: 9206\\nagg_count: 20\\nagg_amoun...</td>\n",
       "    </tr>\n",
       "    <tr>\n",
       "      <th>5068</th>\n",
       "      <td>2132</td>\n",
       "      <td>8921</td>\n",
       "      <td>23</td>\n",
       "      <td>701</td>\n",
       "      <td>701</td>\n",
       "      <td>from: 2132\\nto: 8921\\nagg_count: 23\\nagg_amoun...</td>\n",
       "    </tr>\n",
       "    <tr>\n",
       "      <th>21665</th>\n",
       "      <td>5185</td>\n",
       "      <td>5233</td>\n",
       "      <td>21</td>\n",
       "      <td>448</td>\n",
       "      <td>448</td>\n",
       "      <td>from: 5185\\nto: 5233\\nagg_count: 21\\nagg_amoun...</td>\n",
       "    </tr>\n",
       "    <tr>\n",
       "      <th>68701</th>\n",
       "      <td>998</td>\n",
       "      <td>275</td>\n",
       "      <td>15</td>\n",
       "      <td>5,846</td>\n",
       "      <td>5,846</td>\n",
       "      <td>from: 998\\nto: 275\\nagg_count: 15\\nagg_amount:...</td>\n",
       "    </tr>\n",
       "    <tr>\n",
       "      <th>43896</th>\n",
       "      <td>8141</td>\n",
       "      <td>7693</td>\n",
       "      <td>23</td>\n",
       "      <td>240</td>\n",
       "      <td>240</td>\n",
       "      <td>from: 8141\\nto: 7693\\nagg_count: 23\\nagg_amoun...</td>\n",
       "    </tr>\n",
       "  </tbody>\n",
       "</table>\n",
       "<p>2000 rows × 6 columns</p>\n",
       "</div>"
      ],
      "text/plain": [
       "      source target  agg_edge_large_count  agg_edge_large_amt     value  \\\n",
       "63958   9703   6059                    20               2,506     2,506   \n",
       "38025   7369   9795                     2           1,338,379 1,338,379   \n",
       "64700   9722   9962                    20               2,973     2,973   \n",
       "41653   7881   9751                    20               5,923     5,923   \n",
       "23451   5376   4205                     2           1,755,996 1,755,996   \n",
       "...      ...    ...                   ...                 ...       ...   \n",
       "61987   9647   9206                    20               3,453     3,453   \n",
       "5068    2132   8921                    23                 701       701   \n",
       "21665   5185   5233                    21                 448       448   \n",
       "68701    998    275                    15               5,846     5,846   \n",
       "43896   8141   7693                    23                 240       240   \n",
       "\n",
       "                                                   title  \n",
       "63958  from: 9703\\nto: 6059\\nagg_count: 20\\nagg_amoun...  \n",
       "38025  from: 7369\\nto: 9795\\nagg_count: 2\\nagg_amount...  \n",
       "64700  from: 9722\\nto: 9962\\nagg_count: 20\\nagg_amoun...  \n",
       "41653  from: 7881\\nto: 9751\\nagg_count: 20\\nagg_amoun...  \n",
       "23451  from: 5376\\nto: 4205\\nagg_count: 2\\nagg_amount...  \n",
       "...                                                  ...  \n",
       "61987  from: 9647\\nto: 9206\\nagg_count: 20\\nagg_amoun...  \n",
       "5068   from: 2132\\nto: 8921\\nagg_count: 23\\nagg_amoun...  \n",
       "21665  from: 5185\\nto: 5233\\nagg_count: 21\\nagg_amoun...  \n",
       "68701  from: 998\\nto: 275\\nagg_count: 15\\nagg_amount:...  \n",
       "43896  from: 8141\\nto: 7693\\nagg_count: 23\\nagg_amoun...  \n",
       "\n",
       "[2000 rows x 6 columns]"
      ]
     },
     "execution_count": 40,
     "metadata": {},
     "output_type": "execute_result"
    }
   ],
   "source": [
    "txn_full = pd.read_csv('transactions.csv', usecols=['SENDER_ACCOUNT_ID','RECEIVER_ACCOUNT_ID','TX_AMOUNT'], dtype='object')\n",
    "txn_full['TX_AMOUNT'] = txn_full['TX_AMOUNT'].astype(float)\n",
    "\n",
    "edge_large = txn_full.groupby(['SENDER_ACCOUNT_ID', 'RECEIVER_ACCOUNT_ID'],as_index=False).agg({'TX_AMOUNT':['count','sum']}).sample(2000, random_state=721)\n",
    "edge_large.columns = ['source','target','agg_edge_large_count','agg_edge_large_amt']\n",
    "edge_large['value'] = edge_large['agg_edge_large_amt']\n",
    "edge_large['title'] = edge_large.apply(lambda df: f'from: {df.source}\\nto: {df.target}\\nagg_count: {df.agg_edge_large_count:,.0f}\\nagg_amount: {df.agg_edge_large_amt:,.0f}', axis=1)\n",
    "\n",
    "edge_large"
   ]
  },
  {
   "cell_type": "code",
   "execution_count": 41,
   "id": "874a689c",
   "metadata": {},
   "outputs": [],
   "source": [
    "# Import the dataframe to networkx\n",
    "# #Note that we add the argument \"edge_attr\" in \"from_pandas_edgelist\" so that we don't have to add edge attribute seperately.\n",
    "H = nx.from_pandas_edgelist(edge_large, source='source', target='target', edge_attr=['title','value'])\n"
   ]
  },
  {
   "cell_type": "code",
   "execution_count": 42,
   "id": "090b14ac",
   "metadata": {
    "scrolled": true
   },
   "outputs": [
    {
     "data": {
      "text/plain": [
       "[('9703',\n",
       "  '6059',\n",
       "  {'title': 'from: 9703\\nto: 6059\\nagg_count: 20\\nagg_amount: 2,506',\n",
       "   'value': 2505.8}),\n",
       " ('6059',\n",
       "  '7182',\n",
       "  {'title': 'from: 6059\\nto: 7182\\nagg_count: 22\\nagg_amount: 228',\n",
       "   'value': 228.14})]"
      ]
     },
     "execution_count": 42,
     "metadata": {},
     "output_type": "execute_result"
    }
   ],
   "source": [
    "# Verify if the edge attributes are successfully imported to H\n",
    "list(H.edges(data=True))[0:2]"
   ]
  },
  {
   "cell_type": "markdown",
   "id": "35cab1ea",
   "metadata": {},
   "source": [
    "<h3>? graph will not render Still getting this error:AttributeError: type object 'Network' has no attribute 'Network'</h3>"
   ]
  },
  {
   "cell_type": "code",
   "execution_count": 43,
   "id": "a37a5ef2",
   "metadata": {
    "scrolled": true
   },
   "outputs": [
    {
     "ename": "AttributeError",
     "evalue": "type object 'Network' has no attribute 'Network'",
     "output_type": "error",
     "traceback": [
      "\u001b[0;31m---------------------------------------------------------------------------\u001b[0m",
      "\u001b[0;31mAttributeError\u001b[0m                            Traceback (most recent call last)",
      "Cell \u001b[0;32mIn[43], line 3\u001b[0m\n\u001b[1;32m      1\u001b[0m \u001b[38;5;66;03m# Generate the graph with pyvis \u001b[39;00m\n\u001b[1;32m      2\u001b[0m \u001b[38;5;66;03m# Add a line nt.toggle_physics(False) beforehand otherwise the graph will take a very long time to load\u001b[39;00m\n\u001b[0;32m----> 3\u001b[0m nt \u001b[38;5;241m=\u001b[39m net\u001b[38;5;241m.\u001b[39mNetwork(width\u001b[38;5;241m=\u001b[39m\u001b[38;5;124m'\u001b[39m\u001b[38;5;124m100\u001b[39m\u001b[38;5;124m%\u001b[39m\u001b[38;5;124m'\u001b[39m, height\u001b[38;5;241m=\u001b[39m\u001b[38;5;124m'\u001b[39m\u001b[38;5;124m100\u001b[39m\u001b[38;5;124m%\u001b[39m\u001b[38;5;124m'\u001b[39m, directed\u001b[38;5;241m=\u001b[39m\u001b[38;5;28;01mFalse\u001b[39;00m)\n\u001b[1;32m      4\u001b[0m nt\u001b[38;5;241m.\u001b[39mtoggle_physics(\u001b[38;5;28;01mFalse\u001b[39;00m)\n\u001b[1;32m      5\u001b[0m nt\u001b[38;5;241m.\u001b[39mfrom_nx(H)\n",
      "\u001b[0;31mAttributeError\u001b[0m: type object 'Network' has no attribute 'Network'"
     ]
    }
   ],
   "source": [
    "# Generate the graph with pyvis \n",
    "# Add a line nt.toggle_physics(False) beforehand otherwise the graph will take a very long time to load\n",
    "nt = net.Network(width='100%', height='100%', directed=False)\n",
    "nt.toggle_physics(False)\n",
    "nt.from_nx(H)\n",
    "nt.show('06_H_full.html')"
   ]
  },
  {
   "cell_type": "code",
   "execution_count": null,
   "id": "b3977d0e",
   "metadata": {},
   "outputs": [],
   "source": [
    "# The graph has too much info to interpret so we need to separate it into groups with community detection\n",
    "# from fund flow analysis perspective, a reasonable approach is to group linked nodes in a single group and \n",
    "# those non-linked nodes into another group so that each group are unconnected, which can be assessed by the \n",
    "# function nx.connected_components(H)"
   ]
  },
  {
   "cell_type": "markdown",
   "id": "2f21a64c",
   "metadata": {},
   "source": [
    "<h3>Identify mutually exclusive communities</h3>"
   ]
  },
  {
   "cell_type": "code",
   "execution_count": 44,
   "id": "f5f64337",
   "metadata": {
    "scrolled": true
   },
   "outputs": [
    {
     "data": {
      "text/plain": [
       "[{'4333', '6059', '7182', '9703'},\n",
       " {'4297', '5573', '7266', '7369', '9795'},\n",
       " {'5788', '8914', '9722', '9962'},\n",
       " {'6333', '7881', '7911', '9751', '9797'},\n",
       " {'4205', '474', '5366', '5376', '8708', '9789'}]"
      ]
     },
     "execution_count": 44,
     "metadata": {},
     "output_type": "execute_result"
    }
   ],
   "source": [
    "# Separate nodes that are connected and not connect\n",
    "list(nx.connected_components(H))[0:5]"
   ]
  },
  {
   "cell_type": "code",
   "execution_count": 45,
   "id": "e91e529f",
   "metadata": {},
   "outputs": [
    {
     "data": {
      "text/plain": [
       "1041"
      ]
     },
     "execution_count": 45,
     "metadata": {},
     "output_type": "execute_result"
    }
   ],
   "source": [
    "# Check how many unconnected groups there are in H: \n",
    "len(list(nx.connected_components(H)))"
   ]
  },
  {
   "cell_type": "code",
   "execution_count": 48,
   "id": "bd50fb03",
   "metadata": {},
   "outputs": [],
   "source": [
    "# Assign the group number (from 1 to 1,041) to each node in the form of dictionary \n",
    "# In other words: Assign a community to each group\n",
    "group_dict_H = {}\n",
    "\n",
    "for group, nodes in enumerate(sorted(list(nx.connected_components(H)), key=len, reverse=True), start=1):\n",
    "    for node in nodes:\n",
    "        group_dict_H[node] = group"
   ]
  },
  {
   "cell_type": "code",
   "execution_count": 49,
   "id": "b69a01f4",
   "metadata": {},
   "outputs": [],
   "source": [
    "# NOTE: ## Other algorithms: https://networkx.org/documentation/stable/reference/algorithms/community.html"
   ]
  },
  {
   "cell_type": "code",
   "execution_count": 50,
   "id": "e76cb297",
   "metadata": {},
   "outputs": [
    {
     "data": {
      "text/html": [
       "<div>\n",
       "<style scoped>\n",
       "    .dataframe tbody tr th:only-of-type {\n",
       "        vertical-align: middle;\n",
       "    }\n",
       "\n",
       "    .dataframe tbody tr th {\n",
       "        vertical-align: top;\n",
       "    }\n",
       "\n",
       "    .dataframe thead th {\n",
       "        text-align: right;\n",
       "    }\n",
       "</style>\n",
       "<table border=\"1\" class=\"dataframe\">\n",
       "  <thead>\n",
       "    <tr style=\"text-align: right;\">\n",
       "      <th></th>\n",
       "      <th>source</th>\n",
       "      <th>group</th>\n",
       "    </tr>\n",
       "  </thead>\n",
       "  <tbody>\n",
       "    <tr>\n",
       "      <th>62</th>\n",
       "      <td>1087</td>\n",
       "      <td>1</td>\n",
       "    </tr>\n",
       "    <tr>\n",
       "      <th>36</th>\n",
       "      <td>1609</td>\n",
       "      <td>1</td>\n",
       "    </tr>\n",
       "    <tr>\n",
       "      <th>49</th>\n",
       "      <td>1890</td>\n",
       "      <td>1</td>\n",
       "    </tr>\n",
       "    <tr>\n",
       "      <th>32</th>\n",
       "      <td>1905</td>\n",
       "      <td>1</td>\n",
       "    </tr>\n",
       "    <tr>\n",
       "      <th>20</th>\n",
       "      <td>2369</td>\n",
       "      <td>1</td>\n",
       "    </tr>\n",
       "    <tr>\n",
       "      <th>...</th>\n",
       "      <td>...</td>\n",
       "      <td>...</td>\n",
       "    </tr>\n",
       "    <tr>\n",
       "      <th>3035</th>\n",
       "      <td>5233</td>\n",
       "      <td>1039</td>\n",
       "    </tr>\n",
       "    <tr>\n",
       "      <th>3036</th>\n",
       "      <td>275</td>\n",
       "      <td>1040</td>\n",
       "    </tr>\n",
       "    <tr>\n",
       "      <th>3037</th>\n",
       "      <td>998</td>\n",
       "      <td>1040</td>\n",
       "    </tr>\n",
       "    <tr>\n",
       "      <th>3038</th>\n",
       "      <td>7693</td>\n",
       "      <td>1041</td>\n",
       "    </tr>\n",
       "    <tr>\n",
       "      <th>3039</th>\n",
       "      <td>8141</td>\n",
       "      <td>1041</td>\n",
       "    </tr>\n",
       "  </tbody>\n",
       "</table>\n",
       "<p>3040 rows × 2 columns</p>\n",
       "</div>"
      ],
      "text/plain": [
       "     source  group\n",
       "62     1087      1\n",
       "36     1609      1\n",
       "49     1890      1\n",
       "32     1905      1\n",
       "20     2369      1\n",
       "...     ...    ...\n",
       "3035   5233   1039\n",
       "3036    275   1040\n",
       "3037    998   1040\n",
       "3038   7693   1041\n",
       "3039   8141   1041\n",
       "\n",
       "[3040 rows x 2 columns]"
      ]
     },
     "execution_count": 50,
     "metadata": {},
     "output_type": "execute_result"
    }
   ],
   "source": [
    "# Get a summary of group size \n",
    "groups = pd.DataFrame({'source':group_dict_H.keys(), 'group':group_dict_H.values()}).sort_values(by=['group','source'])\n",
    "groups"
   ]
  },
  {
   "cell_type": "markdown",
   "id": "57d35020",
   "metadata": {},
   "source": [
    "<h3>Display ID, group, degree and neighbors in graph (hover on node)</h3>"
   ]
  },
  {
   "cell_type": "code",
   "execution_count": 52,
   "id": "7141b52d",
   "metadata": {},
   "outputs": [],
   "source": [
    "# Set the node attribute value and title for each node under H, add one more element which is the group attribute\n",
    "# Group attribute will assign different node and edge colors for each group\n",
    "nx.set_node_attributes(H, group_dict_H, 'group')\n",
    "\n",
    "degree_dict_H = dict(H.degree)\n",
    "nx.set_node_attributes(H, degree_dict_H, 'value')\n",
    "\n",
    "neighbor_dict_H = {}\n",
    "for node in list(H.nodes):\n",
    "    neighbor_dict_H[node] = ','.join(H.neighbors(node))\n",
    "\n",
    "title_dict_H = {}\n",
    "for node in list(H.nodes):\n",
    "    title_dict_H[node] = f'id: {node}\\ngroup: {group_dict_H[node]}\\ndegree: {degree_dict_H[node]}\\nneighbor: {neighbor_dict_H[node]}'\n",
    "nx.set_node_attributes(H, title_dict_H, 'title')"
   ]
  },
  {
   "cell_type": "code",
   "execution_count": null,
   "id": "21a58be3",
   "metadata": {},
   "outputs": [],
   "source": [
    "# With group attribute we can use it to filter the nodes for graph generation with H.subgraph(). "
   ]
  },
  {
   "cell_type": "markdown",
   "id": "0444a630",
   "metadata": {},
   "source": [
    "<h3>Create subgraph to display selected groups only</h3>"
   ]
  },
  {
   "cell_type": "code",
   "execution_count": 54,
   "id": "858a9c00",
   "metadata": {},
   "outputs": [],
   "source": [
    "# Generate the network graph for group 1 to 4:target_groups = [1,2,3,4]\n",
    "target_groups = [1,2,3,4]\n",
    "target_nodes = [node for node, group in group_dict_H.items() if group in target_groups]\n",
    "H_sub = H.subgraph(target_nodes)"
   ]
  },
  {
   "cell_type": "markdown",
   "id": "78f68054",
   "metadata": {},
   "source": [
    "<h3> ?? graph wil not render</h3>"
   ]
  },
  {
   "cell_type": "code",
   "execution_count": 55,
   "id": "f4a560cc",
   "metadata": {},
   "outputs": [
    {
     "ename": "NameError",
     "evalue": "name 'show_graph' is not defined",
     "output_type": "error",
     "traceback": [
      "\u001b[0;31m---------------------------------------------------------------------------\u001b[0m",
      "\u001b[0;31mNameError\u001b[0m                                 Traceback (most recent call last)",
      "Cell \u001b[0;32mIn[55], line 1\u001b[0m\n\u001b[0;32m----> 1\u001b[0m show_graph(H_sub, \u001b[38;5;124m'\u001b[39m\u001b[38;5;124m7_communities_pyvis_default.html\u001b[39m\u001b[38;5;124m'\u001b[39m)\n",
      "\u001b[0;31mNameError\u001b[0m: name 'show_graph' is not defined"
     ]
    }
   ],
   "source": [
    "# ERROR: NameError: name 'show_graph' is not defined\n",
    "show_graph(H_sub, '7_communities_pyvis_default.html')"
   ]
  },
  {
   "cell_type": "code",
   "execution_count": null,
   "id": "3c4946ba",
   "metadata": {},
   "outputs": [],
   "source": []
  }
 ],
 "metadata": {
  "kernelspec": {
   "display_name": "Python 3 (ipykernel)",
   "language": "python",
   "name": "python3"
  },
  "language_info": {
   "codemirror_mode": {
    "name": "ipython",
    "version": 3
   },
   "file_extension": ".py",
   "mimetype": "text/x-python",
   "name": "python",
   "nbconvert_exporter": "python",
   "pygments_lexer": "ipython3",
   "version": "3.11.7"
  }
 },
 "nbformat": 4,
 "nbformat_minor": 5
}
