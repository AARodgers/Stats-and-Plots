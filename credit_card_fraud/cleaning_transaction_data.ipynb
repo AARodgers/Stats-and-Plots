{
 "cells": [
  {
   "cell_type": "code",
   "execution_count": null,
   "id": "de77b4b3",
   "metadata": {},
   "outputs": [],
   "source": [
    "# Clean dataset from kaggle\n",
    "# https://www.kaggle.com/c/ieee-fraud-detection/data"
   ]
  },
  {
   "cell_type": "code",
   "execution_count": null,
   "id": "bc528411",
   "metadata": {},
   "outputs": [],
   "source": [
    "# Using Kaggle Datasets API in Jupyter Notebook"
   ]
  },
  {
   "cell_type": "markdown",
   "id": "189a5652",
   "metadata": {},
   "source": [
    "# Set Up Kaggle API Credentials:\n",
    "\n",
    "Go to your Kaggle account settings and select \"Create New API Token.\" This will download a kaggle.json file containing your API credentials.\n",
    "Move the kaggle.json file to a secure location. If you are using a cloud environment, you will need to upload this file to your environment."
   ]
  },
  {
   "cell_type": "code",
   "execution_count": 4,
   "id": "4b04aac8",
   "metadata": {},
   "outputs": [
    {
     "name": "stdout",
     "output_type": "stream",
     "text": [
      "Collecting kaggle\n",
      "  Using cached kaggle-1.6.15.tar.gz (9.1 kB)\n",
      "  Installing build dependencies ... \u001b[?25ldone\n",
      "\u001b[?25h  Getting requirements to build wheel ... \u001b[?25ldone\n",
      "\u001b[?25h  Preparing metadata (pyproject.toml) ... \u001b[?25lerror\n",
      "  \u001b[1;31merror\u001b[0m: \u001b[1msubprocess-exited-with-error\u001b[0m\n",
      "  \n",
      "  \u001b[31m×\u001b[0m \u001b[32mPreparing metadata \u001b[0m\u001b[1;32m(\u001b[0m\u001b[32mpyproject.toml\u001b[0m\u001b[1;32m)\u001b[0m did not run successfully.\n",
      "  \u001b[31m│\u001b[0m exit code: \u001b[1;36m1\u001b[0m\n",
      "  \u001b[31m╰─>\u001b[0m \u001b[31m[43 lines of output]\u001b[0m\n",
      "  \u001b[31m   \u001b[0m Traceback (most recent call last):\n",
      "  \u001b[31m   \u001b[0m   File \"/opt/anaconda3/lib/python3.11/site-packages/pip/_vendor/pyproject_hooks/_in_process/_in_process.py\", line 353, in <module>\n",
      "  \u001b[31m   \u001b[0m     main()\n",
      "  \u001b[31m   \u001b[0m   File \"/opt/anaconda3/lib/python3.11/site-packages/pip/_vendor/pyproject_hooks/_in_process/_in_process.py\", line 335, in main\n",
      "  \u001b[31m   \u001b[0m     json_out['return_val'] = hook(**hook_input['kwargs'])\n",
      "  \u001b[31m   \u001b[0m                              ^^^^^^^^^^^^^^^^^^^^^^^^^^^^\n",
      "  \u001b[31m   \u001b[0m   File \"/opt/anaconda3/lib/python3.11/site-packages/pip/_vendor/pyproject_hooks/_in_process/_in_process.py\", line 152, in prepare_metadata_for_build_wheel\n",
      "  \u001b[31m   \u001b[0m     whl_basename = backend.build_wheel(metadata_directory, config_settings)\n",
      "  \u001b[31m   \u001b[0m                    ^^^^^^^^^^^^^^^^^^^^^^^^^^^^^^^^^^^^^^^^^^^^^^^^^^^^^^^^\n",
      "  \u001b[31m   \u001b[0m   File \"/private/var/folders/xx/d79nkfh96599rt77ggvv_yg80000gn/T/pip-build-env-ftqf902s/overlay/lib/python3.11/site-packages/hatchling/build.py\", line 58, in build_wheel\n",
      "  \u001b[31m   \u001b[0m     return os.path.basename(next(builder.build(directory=wheel_directory, versions=['standard'])))\n",
      "  \u001b[31m   \u001b[0m                             ^^^^^^^^^^^^^^^^^^^^^^^^^^^^^^^^^^^^^^^^^^^^^^^^^^^^^^^^^^^^^^^^^^^^^\n",
      "  \u001b[31m   \u001b[0m   File \"/private/var/folders/xx/d79nkfh96599rt77ggvv_yg80000gn/T/pip-build-env-ftqf902s/overlay/lib/python3.11/site-packages/hatchling/builders/plugin/interface.py\", line 155, in build\n",
      "  \u001b[31m   \u001b[0m     artifact = version_api[version](directory, **build_data)\n",
      "  \u001b[31m   \u001b[0m                ^^^^^^^^^^^^^^^^^^^^^^^^^^^^^^^^^^^^^^^^^^^^^\n",
      "  \u001b[31m   \u001b[0m   File \"/private/var/folders/xx/d79nkfh96599rt77ggvv_yg80000gn/T/pip-build-env-ftqf902s/overlay/lib/python3.11/site-packages/hatchling/builders/wheel.py\", line 475, in build_standard\n",
      "  \u001b[31m   \u001b[0m     for included_file in self.recurse_included_files():\n",
      "  \u001b[31m   \u001b[0m   File \"/private/var/folders/xx/d79nkfh96599rt77ggvv_yg80000gn/T/pip-build-env-ftqf902s/overlay/lib/python3.11/site-packages/hatchling/builders/plugin/interface.py\", line 176, in recurse_included_files\n",
      "  \u001b[31m   \u001b[0m     yield from self.recurse_selected_project_files()\n",
      "  \u001b[31m   \u001b[0m   File \"/private/var/folders/xx/d79nkfh96599rt77ggvv_yg80000gn/T/pip-build-env-ftqf902s/overlay/lib/python3.11/site-packages/hatchling/builders/plugin/interface.py\", line 180, in recurse_selected_project_files\n",
      "  \u001b[31m   \u001b[0m     if self.config.only_include:\n",
      "  \u001b[31m   \u001b[0m        ^^^^^^^^^^^^^^^^^^^^^^^^\n",
      "  \u001b[31m   \u001b[0m   File \"/private/var/folders/xx/d79nkfh96599rt77ggvv_yg80000gn/T/pip-build-env-ftqf902s/overlay/lib/python3.11/site-packages/hatchling/builders/config.py\", line 806, in only_include\n",
      "  \u001b[31m   \u001b[0m     only_include = only_include_config.get('only-include', self.default_only_include()) or self.packages\n",
      "  \u001b[31m   \u001b[0m                                                            ^^^^^^^^^^^^^^^^^^^^^^^^^^^\n",
      "  \u001b[31m   \u001b[0m   File \"/private/var/folders/xx/d79nkfh96599rt77ggvv_yg80000gn/T/pip-build-env-ftqf902s/overlay/lib/python3.11/site-packages/hatchling/builders/wheel.py\", line 260, in default_only_include\n",
      "  \u001b[31m   \u001b[0m     return self.default_file_selection_options.only_include\n",
      "  \u001b[31m   \u001b[0m            ^^^^^^^^^^^^^^^^^^^^^^^^^^^^^^^^^^^\n",
      "  \u001b[31m   \u001b[0m   File \"/opt/anaconda3/lib/python3.11/functools.py\", line 1001, in __get__\n",
      "  \u001b[31m   \u001b[0m     val = self.func(instance)\n",
      "  \u001b[31m   \u001b[0m           ^^^^^^^^^^^^^^^^^^^\n",
      "  \u001b[31m   \u001b[0m   File \"/private/var/folders/xx/d79nkfh96599rt77ggvv_yg80000gn/T/pip-build-env-ftqf902s/overlay/lib/python3.11/site-packages/hatchling/builders/wheel.py\", line 248, in default_file_selection_options\n",
      "  \u001b[31m   \u001b[0m     raise ValueError(message)\n",
      "  \u001b[31m   \u001b[0m ValueError: Unable to determine which files to ship inside the wheel using the following heuristics: https://hatch.pypa.io/latest/plugins/builder/wheel/#default-file-selection\n",
      "  \u001b[31m   \u001b[0m \n",
      "  \u001b[31m   \u001b[0m The most likely cause of this is that there is no directory that matches the name of your project (kaggle).\n",
      "  \u001b[31m   \u001b[0m \n",
      "  \u001b[31m   \u001b[0m At least one file selection option must be defined in the `tool.hatch.build.targets.wheel` table, see: https://hatch.pypa.io/latest/config/build/\n",
      "  \u001b[31m   \u001b[0m \n",
      "  \u001b[31m   \u001b[0m As an example, if you intend to ship a directory named `foo` that resides within a `src` directory located at the root of your project, you can define the following:\n",
      "  \u001b[31m   \u001b[0m \n",
      "  \u001b[31m   \u001b[0m [tool.hatch.build.targets.wheel]\n",
      "  \u001b[31m   \u001b[0m packages = [\"src/foo\"]\n",
      "  \u001b[31m   \u001b[0m \u001b[31m[end of output]\u001b[0m\n",
      "  \n",
      "  \u001b[1;35mnote\u001b[0m: This error originates from a subprocess, and is likely not a problem with pip.\n",
      "\u001b[1;31merror\u001b[0m: \u001b[1mmetadata-generation-failed\u001b[0m\n",
      "\n",
      "\u001b[31m×\u001b[0m Encountered error while generating package metadata.\n",
      "\u001b[31m╰─>\u001b[0m See above for output.\n",
      "\n",
      "\u001b[1;35mnote\u001b[0m: This is an issue with the package mentioned above, not pip.\n",
      "\u001b[1;36mhint\u001b[0m: See above for details.\n",
      "\u001b[?25hNote: you may need to restart the kernel to use updated packages.\n"
     ]
    }
   ],
   "source": [
    "pip install kaggle"
   ]
  },
  {
   "cell_type": "markdown",
   "id": "5f2df8b7",
   "metadata": {},
   "source": [
    "Configure Kaggle API Credentials:\n",
    "\n",
    "Place the kaggle.json file in the appropriate location for your environment.\n",
    "For local environments, place it in the ~/.kaggle/ directory.\n",
    "For cloud environments like Google Colab, you can upload the file and set the path programmatically."
   ]
  },
  {
   "cell_type": "code",
   "execution_count": null,
   "id": "2224654a",
   "metadata": {},
   "outputs": [],
   "source": [
    "# Install Kaggle API\n",
    "!pip install kaggle\n",
    "\n",
    "# Upload kaggle.json file (if using a cloud environment)\n",
    "# from google.colab import files\n",
    "# files.upload()\n",
    "\n",
    "# Move kaggle.json to the .kaggle directory\n",
    "!mkdir -p ~/.kaggle\n",
    "!cp kaggle.json ~/.kaggle/\n",
    "!chmod 600 ~/.kaggle/kaggle.json\n",
    "\n",
    "# Download a dataset (replace 'dataset-owner/dataset-name' with the actual dataset path)\n",
    "!kaggle datasets download -d dataset-owner/dataset-name\n",
    "\n",
    "# Unzip the downloaded dataset\n",
    "!unzip dataset-name.zip"
   ]
  }
 ],
 "metadata": {
  "kernelspec": {
   "display_name": "Python 3 (ipykernel)",
   "language": "python",
   "name": "python3"
  },
  "language_info": {
   "codemirror_mode": {
    "name": "ipython",
    "version": 3
   },
   "file_extension": ".py",
   "mimetype": "text/x-python",
   "name": "python",
   "nbconvert_exporter": "python",
   "pygments_lexer": "ipython3",
   "version": "3.11.7"
  }
 },
 "nbformat": 4,
 "nbformat_minor": 5
}
