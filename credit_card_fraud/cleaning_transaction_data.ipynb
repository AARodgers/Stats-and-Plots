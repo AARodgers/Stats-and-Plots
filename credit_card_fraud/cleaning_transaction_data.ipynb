{
 "cells": [
  {
   "cell_type": "code",
   "execution_count": null,
   "id": "de77b4b3",
   "metadata": {},
   "outputs": [],
   "source": [
    "# Clean dataset from kaggle\n",
    "# https://www.kaggle.com/c/ieee-fraud-detection/data"
   ]
  },
  {
   "cell_type": "code",
   "execution_count": null,
   "id": "bc528411",
   "metadata": {},
   "outputs": [],
   "source": [
    "# Using Kaggle Datasets API in Jupyter Notebook"
   ]
  },
  {
   "cell_type": "markdown",
   "id": "189a5652",
   "metadata": {},
   "source": [
    "# Set Up Kaggle API Credentials:\n",
    "\n",
    "Go to your Kaggle account settings and select \"Create New API Token.\" This will download a kaggle.json file containing your API credentials.\n",
    "Move the kaggle.json file to a secure location. If you are using a cloud environment, you will need to upload this file to your environment."
   ]
  },
  {
   "cell_type": "code",
   "execution_count": null,
   "id": "a024b489",
   "metadata": {},
   "outputs": [],
   "source": [
    "# Install kaggle api\n",
    "pip install kaggle"
   ]
  },
  {
   "cell_type": "markdown",
   "id": "5f2df8b7",
   "metadata": {},
   "source": [
    "Configure Kaggle API Credentials:\n",
    "\n",
    "Place the kaggle.json file in the appropriate location for your environment.\n",
    "For local environments, place it in the ~/.kaggle/ directory.\n",
    "For cloud environments like Google Colab, you can upload the file and set the path programmatically."
   ]
  },
  {
   "cell_type": "code",
   "execution_count": null,
   "id": "2224654a",
   "metadata": {},
   "outputs": [],
   "source": [
    "# Install Kaggle API\n",
    "!pip install kaggle\n",
    "\n",
    "# Upload kaggle.json file (if using a cloud environment)\n",
    "# from google.colab import files\n",
    "# files.upload()\n",
    "\n",
    "# Move kaggle.json to the .kaggle directory\n",
    "!mkdir -p ~/.kaggle\n",
    "!cp kaggle.json ~/.kaggle/\n",
    "!chmod 600 ~/.kaggle/kaggle.json\n",
    "\n",
    "# Download a dataset (replace 'dataset-owner/dataset-name' with the actual dataset path)\n",
    "!kaggle datasets download -d dataset-owner/dataset-name\n",
    "\n",
    "# Unzip the downloaded dataset\n",
    "!unzip dataset-name.zip"
   ]
  }
 ],
 "metadata": {
  "kernelspec": {
   "display_name": "Python 3 (ipykernel)",
   "language": "python",
   "name": "python3"
  },
  "language_info": {
   "codemirror_mode": {
    "name": "ipython",
    "version": 3
   },
   "file_extension": ".py",
   "mimetype": "text/x-python",
   "name": "python",
   "nbconvert_exporter": "python",
   "pygments_lexer": "ipython3",
   "version": "3.11.7"
  }
 },
 "nbformat": 4,
 "nbformat_minor": 5
}
